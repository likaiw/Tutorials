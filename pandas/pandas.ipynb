{
 "cells": [
  {
   "cell_type": "markdown",
   "source": [
    "## Setup\n"
   ],
   "metadata": {
    "collapsed": false
   }
  },
  {
   "cell_type": "code",
   "execution_count": 9,
   "outputs": [],
   "source": [
    "import os\n",
    "os.getcwd()\n",
    "\n",
    "import sys\n",
    "sys.path.append(os.getcwd() + '../custom_modules')"
   ],
   "metadata": {
    "collapsed": false,
    "pycharm": {
     "name": "#%%\n"
    }
   }
  },
  {
   "cell_type": "code",
   "execution_count": 10,
   "outputs": [
    {
     "ename": "ModuleNotFoundError",
     "evalue": "No module named 'werkzeug'",
     "output_type": "error",
     "traceback": [
      "\u001B[0;31m---------------------------------------------------------------------------\u001B[0m",
      "\u001B[0;31mModuleNotFoundError\u001B[0m                       Traceback (most recent call last)",
      "\u001B[0;32m<ipython-input-10-6eb3ea688d42>\u001B[0m in \u001B[0;36m<module>\u001B[0;34m\u001B[0m\n\u001B[1;32m      1\u001B[0m \u001B[0;31m# Import solution and data\u001B[0m\u001B[0;34m\u001B[0m\u001B[0;34m\u001B[0m\u001B[0;34m\u001B[0m\u001B[0m\n\u001B[1;32m      2\u001B[0m \u001B[0;34m\u001B[0m\u001B[0m\n\u001B[0;32m----> 3\u001B[0;31m \u001B[0;32mfrom\u001B[0m \u001B[0msolution\u001B[0m \u001B[0;32mimport\u001B[0m \u001B[0;34m*\u001B[0m\u001B[0;34m\u001B[0m\u001B[0;34m\u001B[0m\u001B[0m\n\u001B[0m\u001B[1;32m      4\u001B[0m \u001B[0;32mimport\u001B[0m \u001B[0mdatabank\u001B[0m \u001B[0;32mas\u001B[0m \u001B[0mdb\u001B[0m\u001B[0;34m\u001B[0m\u001B[0;34m\u001B[0m\u001B[0m\n\u001B[1;32m      5\u001B[0m \u001B[0;34m\u001B[0m\u001B[0m\n",
      "\u001B[0;32m/Library/Frameworks/Python.framework/Versions/3.7/lib/python3.7/site-packages/solution/__init__.py\u001B[0m in \u001B[0;36m<module>\u001B[0;34m\u001B[0m\n\u001B[1;32m     11\u001B[0m \u001B[0;34m\u001B[0m\u001B[0m\n\u001B[1;32m     12\u001B[0m \"\"\"\n\u001B[0;32m---> 13\u001B[0;31m \u001B[0;32mfrom\u001B[0m \u001B[0;34m.\u001B[0m\u001B[0mform\u001B[0m \u001B[0;32mimport\u001B[0m \u001B[0mForm\u001B[0m  \u001B[0;31m# noqa\u001B[0m\u001B[0;34m\u001B[0m\u001B[0;34m\u001B[0m\u001B[0m\n\u001B[0m\u001B[1;32m     14\u001B[0m \u001B[0;32mfrom\u001B[0m \u001B[0;34m.\u001B[0m\u001B[0mformset\u001B[0m \u001B[0;32mimport\u001B[0m \u001B[0mFormSet\u001B[0m  \u001B[0;31m# noqa\u001B[0m\u001B[0;34m\u001B[0m\u001B[0;34m\u001B[0m\u001B[0m\n\u001B[1;32m     15\u001B[0m \u001B[0;32mfrom\u001B[0m \u001B[0;34m.\u001B[0m\u001B[0mfields\u001B[0m \u001B[0;32mimport\u001B[0m \u001B[0;34m*\u001B[0m  \u001B[0;31m# noqa\u001B[0m\u001B[0;34m\u001B[0m\u001B[0;34m\u001B[0m\u001B[0m\n",
      "\u001B[0;32m/Library/Frameworks/Python.framework/Versions/3.7/lib/python3.7/site-packages/solution/form.py\u001B[0m in \u001B[0;36m<module>\u001B[0;34m\u001B[0m\n\u001B[1;32m      9\u001B[0m \u001B[0;34m\u001B[0m\u001B[0m\n\u001B[1;32m     10\u001B[0m \u001B[0;32mfrom\u001B[0m \u001B[0;34m.\u001B[0m\u001B[0m_compat\u001B[0m \u001B[0;32mimport\u001B[0m \u001B[0mitervalues\u001B[0m\u001B[0;34m\u001B[0m\u001B[0;34m\u001B[0m\u001B[0m\n\u001B[0;32m---> 11\u001B[0;31m \u001B[0;32mfrom\u001B[0m \u001B[0;34m.\u001B[0m\u001B[0mfields\u001B[0m \u001B[0;32mimport\u001B[0m \u001B[0mField\u001B[0m\u001B[0;34m\u001B[0m\u001B[0;34m\u001B[0m\u001B[0m\n\u001B[0m\u001B[1;32m     12\u001B[0m \u001B[0;32mfrom\u001B[0m \u001B[0;34m.\u001B[0m\u001B[0mformset\u001B[0m \u001B[0;32mimport\u001B[0m \u001B[0mFormSet\u001B[0m\u001B[0;34m\u001B[0m\u001B[0;34m\u001B[0m\u001B[0m\n\u001B[1;32m     13\u001B[0m \u001B[0;32mfrom\u001B[0m \u001B[0;34m.\u001B[0m\u001B[0mutils\u001B[0m \u001B[0;32mimport\u001B[0m \u001B[0mFakeMultiDict\u001B[0m\u001B[0;34m,\u001B[0m \u001B[0mget_obj_value\u001B[0m\u001B[0;34m,\u001B[0m \u001B[0mset_obj_value\u001B[0m\u001B[0;34m,\u001B[0m \u001B[0mjson_serial\u001B[0m\u001B[0;34m\u001B[0m\u001B[0;34m\u001B[0m\u001B[0m\n",
      "\u001B[0;32m/Library/Frameworks/Python.framework/Versions/3.7/lib/python3.7/site-packages/solution/fields/__init__.py\u001B[0m in \u001B[0;36m<module>\u001B[0;34m\u001B[0m\n\u001B[1;32m      5\u001B[0m \u001B[0;32mfrom\u001B[0m \u001B[0;34m.\u001B[0m\u001B[0mdate\u001B[0m \u001B[0;32mimport\u001B[0m \u001B[0mDate\u001B[0m\u001B[0;34m\u001B[0m\u001B[0;34m\u001B[0m\u001B[0m\n\u001B[1;32m      6\u001B[0m \u001B[0;32mfrom\u001B[0m \u001B[0;34m.\u001B[0m\u001B[0msimple_date\u001B[0m \u001B[0;32mimport\u001B[0m \u001B[0mSimpleDate\u001B[0m\u001B[0;34m\u001B[0m\u001B[0;34m\u001B[0m\u001B[0m\n\u001B[0;32m----> 7\u001B[0;31m \u001B[0;32mfrom\u001B[0m \u001B[0;34m.\u001B[0m\u001B[0mfile\u001B[0m \u001B[0;32mimport\u001B[0m \u001B[0mFile\u001B[0m\u001B[0;34m,\u001B[0m \u001B[0mImage\u001B[0m\u001B[0;34m,\u001B[0m \u001B[0mIMAGES\u001B[0m\u001B[0;34m,\u001B[0m \u001B[0mDOCUMENTS\u001B[0m\u001B[0;34m,\u001B[0m \u001B[0mDATA\u001B[0m\u001B[0;34m,\u001B[0m \u001B[0mARCHIVES\u001B[0m\u001B[0;34m\u001B[0m\u001B[0;34m\u001B[0m\u001B[0m\n\u001B[0m\u001B[1;32m      8\u001B[0m \u001B[0;32mfrom\u001B[0m \u001B[0;34m.\u001B[0m\u001B[0mnumber\u001B[0m \u001B[0;32mimport\u001B[0m \u001B[0mNumber\u001B[0m\u001B[0;34m\u001B[0m\u001B[0;34m\u001B[0m\u001B[0m\n\u001B[1;32m      9\u001B[0m \u001B[0;32mfrom\u001B[0m \u001B[0;34m.\u001B[0m\u001B[0mselect\u001B[0m \u001B[0;32mimport\u001B[0m \u001B[0mSelect\u001B[0m\u001B[0;34m,\u001B[0m \u001B[0mMultiSelect\u001B[0m\u001B[0;34m\u001B[0m\u001B[0;34m\u001B[0m\u001B[0m\n",
      "\u001B[0;32m/Library/Frameworks/Python.framework/Versions/3.7/lib/python3.7/site-packages/solution/fields/file/__init__.py\u001B[0m in \u001B[0;36m<module>\u001B[0;34m\u001B[0m\n\u001B[0;32m----> 1\u001B[0;31m \u001B[0;32mfrom\u001B[0m \u001B[0;34m.\u001B[0m\u001B[0mfile\u001B[0m \u001B[0;32mimport\u001B[0m \u001B[0mFile\u001B[0m\u001B[0;34m\u001B[0m\u001B[0;34m\u001B[0m\u001B[0m\n\u001B[0m\u001B[1;32m      2\u001B[0m \u001B[0;32mfrom\u001B[0m \u001B[0;34m.\u001B[0m\u001B[0mimage\u001B[0m \u001B[0;32mimport\u001B[0m \u001B[0mImage\u001B[0m\u001B[0;34m\u001B[0m\u001B[0;34m\u001B[0m\u001B[0m\n\u001B[1;32m      3\u001B[0m \u001B[0;32mfrom\u001B[0m \u001B[0;34m.\u001B[0m\u001B[0mhelpers\u001B[0m \u001B[0;32mimport\u001B[0m \u001B[0mIMAGES\u001B[0m\u001B[0;34m,\u001B[0m \u001B[0mDOCUMENTS\u001B[0m\u001B[0;34m,\u001B[0m \u001B[0mDATA\u001B[0m\u001B[0;34m,\u001B[0m \u001B[0mARCHIVES\u001B[0m\u001B[0;34m\u001B[0m\u001B[0;34m\u001B[0m\u001B[0m\n",
      "\u001B[0;32m/Library/Frameworks/Python.framework/Versions/3.7/lib/python3.7/site-packages/solution/fields/file/file.py\u001B[0m in \u001B[0;36m<module>\u001B[0;34m\u001B[0m\n\u001B[1;32m      1\u001B[0m \u001B[0;31m# coding=utf-8\u001B[0m\u001B[0;34m\u001B[0m\u001B[0;34m\u001B[0m\u001B[0;34m\u001B[0m\u001B[0m\n\u001B[0;32m----> 2\u001B[0;31m \u001B[0;32mfrom\u001B[0m \u001B[0mwerkzeug\u001B[0m\u001B[0;34m.\u001B[0m\u001B[0mdatastructures\u001B[0m \u001B[0;32mimport\u001B[0m \u001B[0mFileStorage\u001B[0m\u001B[0;34m\u001B[0m\u001B[0;34m\u001B[0m\u001B[0m\n\u001B[0m\u001B[1;32m      3\u001B[0m \u001B[0;32mfrom\u001B[0m \u001B[0msolution\u001B[0m\u001B[0;34m.\u001B[0m\u001B[0mfields\u001B[0m \u001B[0;32mimport\u001B[0m \u001B[0mField\u001B[0m\u001B[0;34m\u001B[0m\u001B[0;34m\u001B[0m\u001B[0m\n\u001B[1;32m      4\u001B[0m \u001B[0;32mfrom\u001B[0m \u001B[0msolution\u001B[0m\u001B[0;34m.\u001B[0m\u001B[0mutils\u001B[0m \u001B[0;32mimport\u001B[0m \u001B[0mMarkup\u001B[0m\u001B[0;34m,\u001B[0m \u001B[0mget_html_attrs\u001B[0m\u001B[0;34m\u001B[0m\u001B[0;34m\u001B[0m\u001B[0m\n\u001B[1;32m      5\u001B[0m \u001B[0;34m\u001B[0m\u001B[0m\n",
      "\u001B[0;31mModuleNotFoundError\u001B[0m: No module named 'werkzeug'"
     ]
    }
   ],
   "source": [
    "# Import solution and data\n",
    "\n",
    "from solution import *\n",
    "import databank as db"
   ],
   "metadata": {
    "collapsed": false,
    "pycharm": {
     "name": "#%%\n"
    }
   }
  },
  {
   "cell_type": "code",
   "execution_count": null,
   "outputs": [],
   "source": [
    "# Pandas import convention\n",
    "\n",
    "import pandas as pd"
   ],
   "metadata": {
    "collapsed": false,
    "pycharm": {
     "name": "#%%\n"
    }
   }
  },
  {
   "cell_type": "markdown",
   "source": [
    "### Series"
   ],
   "metadata": {
    "collapsed": false,
    "pycharm": {
     "name": "#%% md\n"
    }
   }
  },
  {
   "cell_type": "markdown",
   "source": [
    "#### Constructor"
   ],
   "metadata": {
    "collapsed": false,
    "pycharm": {
     "name": "#%% md\n"
    }
   }
  },
  {
   "cell_type": "code",
   "execution_count": null,
   "outputs": [],
   "source": [
    "# Create a Series with index 1, 2, 3, 4 and values of a, b, c, d, using only the constructor.\n",
    "# Given parameter(s): None\n",
    "# Submission: response (Series)\n",
    "\n",
    "response = pd.Series(data=['a','b','c','d'], index=[1,2,3,4])\n",
    "assert_series_constructor_data_value_1(response)"
   ],
   "metadata": {
    "collapsed": false,
    "pycharm": {
     "name": "#%%\n"
    }
   }
  },
  {
   "cell_type": "code",
   "execution_count": null,
   "outputs": [],
   "source": [
    "# Create a Series with index a, b, c, d and values of 1, 2, 3, 4, using only the constructor.\n",
    "# Given parameter(s): None\n",
    "# Submission: response (Series)\n",
    "\n",
    "response = pd.Series([1, 2, 3, 4], index=['a', 'b', 'c', 'd'])\n",
    "assert_series_constructor_data_value_2(response)"
   ],
   "metadata": {
    "collapsed": false,
    "pycharm": {
     "name": "#%%\n"
    }
   }
  },
  {
   "cell_type": "code",
   "execution_count": null,
   "outputs": [],
   "source": [
    "# Create a Series with the given data. The data is an array of integers but the Series must contain data of type float.\n",
    "# Given parameter(s): data ([Int])\n",
    "# Submission: response (Series)\n",
    "# Hint: Check what other parameters the Series constructor takes in.\n",
    "\n",
    "data = [1,2,3,4]\n",
    "response = pd.Series(data, dtype=float)\n",
    "assert_series_constructor_dtype_1(response)"
   ],
   "metadata": {
    "collapsed": false,
    "pycharm": {
     "name": "#%%\n"
    }
   }
  },
  {
   "cell_type": "code",
   "execution_count": null,
   "outputs": [],
   "source": [
    "# Given the following parameters, create an empty Series, and name it 'MySeries'.\n",
    "# Given parameter(s): data ([Int]), index ([Str]), dtype (Int)\n",
    "# Submission: response (Series)\n",
    "\n",
    "data = [1,2,3,4]\n",
    "index = ['a','b','c','d']\n",
    "dtype = int\n",
    "\n",
    "response = pd.Series(data, index, dtype, 'MySeries')\n",
    "assert_series_constructor_name_1(response)"
   ],
   "metadata": {
    "collapsed": false,
    "pycharm": {
     "name": "#%%\n"
    }
   }
  },
  {
   "cell_type": "markdown",
   "source": [
    "#### Attributes"
   ],
   "metadata": {
    "collapsed": false,
    "pycharm": {
     "name": "#%% md\n"
    }
   }
  },
  {
   "cell_type": "code",
   "execution_count": null,
   "outputs": [],
   "source": [
    "# Return a tuple of the shape of the given series object. You must use one of the already available attributes to submit your response. No peeking at the given series object!\n",
    "# Given parameter(s): series (Series)\n",
    "# Submission: response (Series)\n",
    "\n",
    "series = db.shape_data\n",
    "\n",
    "response = series.shape\n",
    "assert_series_attribute_shape_1(response)"
   ],
   "metadata": {
    "collapsed": false,
    "pycharm": {
     "name": "#%%\n"
    }
   }
  },
  {
   "cell_type": "markdown",
   "source": [
    "### Dataframe"
   ],
   "metadata": {
    "collapsed": false
   }
  },
  {
   "cell_type": "markdown",
   "source": [
    "#### Constructor"
   ],
   "metadata": {
    "collapsed": false
   }
  },
  {
   "cell_type": "code",
   "execution_count": null,
   "outputs": [],
   "source": [
    "# Create a DataFrame object, where 1, 2, 3 are in the first row, 4, 5, 6, are in the second row, and 7, 8, 9 are in the third row.\n",
    "# Given parameter(s): None\n",
    "# Submission: response (DataFrame)\n",
    "\n",
    "response = db.basic_dataframe\n",
    "assert_dataframe_constructor_1(response)"
   ],
   "metadata": {
    "collapsed": false,
    "pycharm": {
     "name": "#%%\n"
    }
   }
  },
  {
   "cell_type": "code",
   "execution_count": null,
   "outputs": [],
   "source": [
    "# Given the same dataframe as above, modify it so that the columns are x, y, and z.\n",
    "# Given parameter(s): None\n",
    "# Submission: response (DataFrame)\n",
    "\n",
    "response = db.basic_dataframe\n",
    "response.columns = ['x', 'y', 'z']\n",
    "assert_dataframe_constructor_2(response)"
   ],
   "metadata": {
    "collapsed": false,
    "pycharm": {
     "name": "#%%\n"
    }
   }
  },
  {
   "cell_type": "markdown",
   "source": [
    "### General Functions\n",
    "##### We will use the iris sample data set to practice using series and dataframes. Although there are multiple workarounds to return the same answer, the point of this exercise is to use the built-in pandas functions to come up with the most concise and elegant solutions."
   ],
   "metadata": {
    "collapsed": false,
    "pycharm": {
     "name": "#%% md\n"
    }
   }
  },
  {
   "cell_type": "code",
   "execution_count": null,
   "outputs": [],
   "source": [
    "data = pd.read_csv('https://raw.githubusercontent.com/mwaskom/seaborn-data/master/iris.csv')"
   ],
   "metadata": {
    "collapsed": false,
    "pycharm": {
     "name": "#%%\n"
    }
   }
  },
  {
   "cell_type": "code",
   "execution_count": null,
   "outputs": [],
   "source": [
    "# The data is already in the dataframe type.\n",
    "type(data)"
   ],
   "metadata": {
    "collapsed": false,
    "pycharm": {
     "name": "#%%\n"
    }
   }
  },
  {
   "cell_type": "code",
   "execution_count": null,
   "outputs": [],
   "source": [
    "# Rename the object to df.\n",
    "df = data\n",
    "df"
   ],
   "metadata": {
    "collapsed": false,
    "pycharm": {
     "name": "#%%\n"
    }
   }
  },
  {
   "cell_type": "code",
   "execution_count": null,
   "outputs": [],
   "source": [
    "# We will extract a series object from the dataframe.\n",
    "s = data['sepal_length']\n",
    "s"
   ],
   "metadata": {
    "collapsed": false,
    "pycharm": {
     "name": "#%%\n"
    }
   }
  },
  {
   "cell_type": "code",
   "execution_count": null,
   "outputs": [],
   "source": [
    "# You can confirm here that the object type is Series.\n",
    "type(s)"
   ],
   "metadata": {
    "collapsed": false,
    "pycharm": {
     "name": "#%%\n"
    }
   }
  },
  {
   "cell_type": "markdown",
   "source": [
    "##### We now have our dataframe and series object to practice with."
   ],
   "metadata": {
    "collapsed": false,
    "pycharm": {
     "name": "#%% md\n"
    }
   }
  },
  {
   "cell_type": "markdown",
   "source": [
    "#### Viewing Data"
   ],
   "metadata": {
    "collapsed": false
   }
  },
  {
   "cell_type": "code",
   "execution_count": null,
   "outputs": [],
   "source": [
    "# Return the first 10 rows of the given DataFrame.\n",
    "# Given parameter(s): df (DataFrame)\n",
    "# Submission: response (DataFrame)\n",
    "# Hint: The function name is a part of your body!\n",
    "\n",
    "df\n",
    "\n",
    "response = df.head(10)\n",
    "assert_viewing_1_1(response)"
   ],
   "metadata": {
    "collapsed": false,
    "pycharm": {
     "name": "#%%\n"
    }
   }
  },
  {
   "cell_type": "code",
   "execution_count": null,
   "outputs": [],
   "source": [
    "# Return the last 10 rows of the given DataFrame.\n",
    "# Given parameter(s): df (DataFrame)\n",
    "# Submission: response (DataFrame)\n",
    "# Hint: Some animals have this body part, but you don't!\n",
    "\n",
    "df\n",
    "\n",
    "response = df.tail(10)\n",
    "assert_viewing_2_1(response)"
   ],
   "metadata": {
    "collapsed": false,
    "pycharm": {
     "name": "#%%\n"
    }
   }
  },
  {
   "cell_type": "code",
   "execution_count": null,
   "outputs": [],
   "source": [
    "# Return the # of rows and columns in the form of tuple.\n",
    "# Given parameter(s): df (DataFrame)\n",
    "# Submission: response (Tuple)\n",
    "\n",
    "df\n",
    "\n",
    "response = df.shape\n",
    "assert_viewing_3_1(response)"
   ],
   "metadata": {
    "collapsed": false,
    "pycharm": {
     "name": "#%%\n"
    }
   }
  },
  {
   "cell_type": "code",
   "execution_count": null,
   "outputs": [],
   "source": [
    "# What is the dtype for the species column?\n",
    "# Given parameter(s): df (DataFrame)\n",
    "# Submission: response (Str)\n",
    "\n",
    "df\n",
    "\n",
    "response = 'object'\n",
    "assert_viewing_4_1(response)"
   ],
   "metadata": {
    "collapsed": false,
    "pycharm": {
     "name": "#%%\n"
    }
   }
  },
  {
   "cell_type": "code",
   "execution_count": null,
   "outputs": [],
   "source": [
    "# What is the 75 percentile for petal_length?\n",
    "# Given parameter(s): df (DataFrame)\n",
    "# Submission: response (Int)\n",
    "\n",
    "df\n",
    "\n",
    "response = 5.1\n",
    "assert_viewing_5_1(response)"
   ],
   "metadata": {
    "collapsed": false,
    "pycharm": {
     "name": "#%%\n"
    }
   }
  },
  {
   "cell_type": "code",
   "execution_count": null,
   "outputs": [],
   "source": [
    "# How many counts of value 7.7 exists in the Series?\n",
    "# Given parameter(s): s (Series)\n",
    "# Submission: response (Int)\n",
    "\n",
    "s\n",
    "\n",
    "response = 4\n",
    "assert_viewing_6_1(response)"
   ],
   "metadata": {
    "collapsed": false,
    "pycharm": {
     "name": "#%%\n"
    }
   }
  },
  {
   "cell_type": "code",
   "execution_count": null,
   "outputs": [],
   "source": [
    "# Return a Series of sepal_length with all the values squared.\n",
    "# Given parameter(s): df (DataFrame)\n",
    "# Submission: response (Series)\n",
    "\n",
    "import numpy as np\n",
    "\n",
    "response = df.copy()['sepal_length']\n",
    "response = response.apply(np.square)\n",
    "assert_viewing_7_1(response)"
   ],
   "metadata": {
    "collapsed": false,
    "pycharm": {
     "name": "#%%\n"
    }
   }
  },
  {
   "cell_type": "markdown",
   "source": [
    "#### Selecting Data"
   ],
   "metadata": {
    "collapsed": false
   }
  },
  {
   "cell_type": "code",
   "execution_count": null,
   "outputs": [],
   "source": [
    "# Return the petal_width column as a Series.\n",
    "# Given parameter(s): df (DataFrame)\n",
    "# Submission: response (Series)\n",
    "\n",
    "df\n",
    "\n",
    "response = df['petal_width']\n",
    "assert_selecting_1_1(response)"
   ],
   "metadata": {
    "collapsed": false,
    "pycharm": {
     "name": "#%%\n"
    }
   }
  },
  {
   "cell_type": "code",
   "execution_count": null,
   "outputs": [],
   "source": [
    "# Return the sepal_length and sepal_width columns as a DataFrame.\n",
    "# Given parameter(s): df (DataFrame)\n",
    "# Submission: response (DataFrame)\n",
    "\n",
    "df\n",
    "\n",
    "response = df[['petal_width', 'petal_length']]\n",
    "assert_selecting_2_1(response)"
   ],
   "metadata": {
    "collapsed": false,
    "pycharm": {
     "name": "#%%\n"
    }
   }
  },
  {
   "cell_type": "code",
   "execution_count": null,
   "outputs": [],
   "source": [
    "# Return the value at position 100 in the Series.\n",
    "# Given parameter(s): s (Series)\n",
    "# Submission: response (Int)\n",
    "\n",
    "s\n",
    "\n",
    "response = s.iloc[100]\n",
    "assert_selecting_3_1(response)"
   ],
   "metadata": {
    "collapsed": false,
    "pycharm": {
     "name": "#%%\n"
    }
   }
  },
  {
   "cell_type": "code",
   "execution_count": null,
   "outputs": [],
   "source": [
    "# Return the value at index '100th_index' in the given Series.\n",
    "# Given parameter(s): modified_index_s (Series)\n",
    "# Submission: response (Int)\n",
    "\n",
    "modified_index_s = db.modified_index_s\n",
    "\n",
    "response = modified_index_s.loc['100th_index']\n",
    "assert_selecting_4_1(response)"
   ],
   "metadata": {
    "collapsed": false,
    "pycharm": {
     "name": "#%%\n"
    }
   }
  },
  {
   "cell_type": "code",
   "execution_count": null,
   "outputs": [],
   "source": [
    "# Return the value at row index 15 and column index 3 in the DataFrame.\n",
    "# Given parameter(s): df (DataFrame)\n",
    "# Submission: response (Int)\n",
    "\n",
    "df\n",
    "\n",
    "response = df.iloc[15, 3]\n",
    "assert_selecting_5_1(response)"
   ],
   "metadata": {
    "collapsed": false,
    "pycharm": {
     "name": "#%%\n"
    }
   }
  },
  {
   "cell_type": "code",
   "execution_count": null,
   "outputs": [],
   "source": [
    "# Return the values at row index 3 in the DataFrame as a Series.\n",
    "# Given parameter(s): df (DataFrame)\n",
    "# Submission: response (Series)\n",
    "\n",
    "df\n",
    "\n",
    "response = df.iloc[3, :]\n",
    "assert_selecting_5_2(response)"
   ],
   "metadata": {
    "collapsed": false,
    "pycharm": {
     "name": "#%%\n"
    }
   }
  },
  {
   "cell_type": "code",
   "execution_count": null,
   "outputs": [],
   "source": [
    "# Return the values at row indices 18 to 20 (exclusive) and column indices 1 to 3 (exclusive) in the DataFrame as a DataFrame.\n",
    "# Given parameter(s): df (DataFrame)\n",
    "# Submission: response (DataFrame)\n",
    "\n",
    "df\n",
    "\n",
    "response = df.iloc[18:20, 1:3]\n",
    "assert_selecting_5_3(response)"
   ],
   "metadata": {
    "collapsed": false,
    "pycharm": {
     "name": "#%%\n"
    }
   }
  },
  {
   "cell_type": "markdown",
   "source": [
    "#### Cleaning\n",
    "##### We will use the iris sample data set to practice using series and dataframes. This time, however, I have modified the dataframe so as to include NaN values, as shown below."
   ],
   "metadata": {
    "collapsed": false
   }
  },
  {
   "cell_type": "code",
   "execution_count": null,
   "outputs": [],
   "source": [
    "modified_df = db.modified_iris_dataframe\n",
    "modified_s = df['sepal_width']"
   ],
   "metadata": {
    "collapsed": false,
    "pycharm": {
     "name": "#%%\n"
    }
   }
  },
  {
   "cell_type": "code",
   "execution_count": null,
   "outputs": [],
   "source": [
    "# Using a copy of the original DataFrame, return a modified version of it where all the rows that contain null values are dropped.\n",
    "# Given parameter(s): copy_df (DataFrame)\n",
    "# Submission: response (DataFrame)\n",
    "\n",
    "copy_df = modified_df.copy()\n",
    "\n",
    "response = copy_df.dropna()\n",
    "assert_cleaning_1_1(response)"
   ],
   "metadata": {
    "collapsed": false,
    "pycharm": {
     "name": "#%%\n"
    }
   }
  },
  {
   "cell_type": "code",
   "execution_count": null,
   "outputs": [],
   "source": [
    "# Using a copy of the original DataFrame, return a modified version of it where all the columns that contain null values are dropped.\n",
    "# Given parameter(s): copy_df (DataFrame)\n",
    "# Submission: response (DataFrame)\n",
    "\n",
    "copy_df = modified_df.copy()\n",
    "\n",
    "response = copy_df.dropna(axis = 1)\n",
    "assert_cleaning_1_2(response)"
   ],
   "metadata": {
    "collapsed": false,
    "pycharm": {
     "name": "#%%\n"
    }
   }
  },
  {
   "cell_type": "code",
   "execution_count": null,
   "outputs": [],
   "source": [
    "# Using a copy of the original DataFrame, return a modified version of it where all the columns that have fewer than 120 non-null values are dropped.\n",
    "# Given parameter(s): copy_df (DataFrame)\n",
    "# Submission: response (DataFrame)\n",
    "\n",
    "copy_df = modified_df.copy()\n",
    "\n",
    "response = copy_df.dropna(axis = 1, thresh = 120)\n",
    "assert_cleaning_1_3(response)"
   ],
   "metadata": {
    "collapsed": false,
    "pycharm": {
     "name": "#%%\n"
    }
   }
  },
  {
   "cell_type": "code",
   "execution_count": null,
   "outputs": [],
   "source": [
    "# Using a copy of the original Series, return a modified version of it where the cells with None values are replaced with the median.\n",
    "# Given parameter(s): copy_s (Series)\n",
    "# Submission: response (Series)\n",
    "\n",
    "copy_s = modified_df['sepal_length'].copy()\n",
    "\n",
    "response = copy_s.fillna(s.median())\n",
    "assert_cleaning_2_1(response)"
   ],
   "metadata": {
    "collapsed": false,
    "pycharm": {
     "name": "#%%\n"
    }
   }
  },
  {
   "cell_type": "code",
   "execution_count": null,
   "outputs": [],
   "source": [
    "# Using a copy of the original DataFrame, return a modified version of it where the cells with None values are replaced with the median.\n",
    "# Given parameter(s): copy_df (DataFrame)\n",
    "# Submission: response (DataFrame)\n",
    "\n",
    "copy_df = modified_df.copy()\n",
    "\n",
    "response = copy_df.fillna(s.mean())\n",
    "assert_cleaning_2_2(response)"
   ],
   "metadata": {
    "collapsed": false,
    "pycharm": {
     "name": "#%%\n"
    }
   }
  },
  {
   "cell_type": "code",
   "execution_count": null,
   "outputs": [],
   "source": [
    "# Using a copy of the original Series, return a modified version of it where the cells are converted into type Int.\n",
    "# Given parameter(s): copy_s (Series)\n",
    "# Submission: response (Series)\n",
    "\n",
    "copy_s = modified_s.copy()\n",
    "\n",
    "response = copy_s.astype(int)\n",
    "assert_cleaning_3_1(response)"
   ],
   "metadata": {
    "collapsed": false,
    "pycharm": {
     "name": "#%%\n"
    }
   }
  },
  {
   "cell_type": "code",
   "execution_count": null,
   "outputs": [],
   "source": [
    "# Using a copy of the original Series, return a modified version of it where the cells with value 3.0 or 2.0 are replaced with 'Three' and 'Two' as strings, respectively.\n",
    "# Given parameter(s): copy_s (Series)\n",
    "# Submission: response (Series)\n",
    "\n",
    "copy_s = modified_s.copy()\n",
    "\n",
    "response = copy_s.replace([3.0, 2.0], ['Three', 'Two'])\n",
    "assert_cleaning_4_1(response)"
   ],
   "metadata": {
    "collapsed": false,
    "pycharm": {
     "name": "#%%\n"
    }
   }
  },
  {
   "cell_type": "markdown",
   "source": [
    "#### Filter, Sort, and Groupby"
   ],
   "metadata": {
    "collapsed": false,
    "pycharm": {
     "name": "#%% md\n"
    }
   }
  },
  {
   "cell_type": "code",
   "execution_count": null,
   "outputs": [],
   "source": [
    "# Return a new DataFrame object with rows that have the petal_width value less than 1.\n",
    "# Given parameter(s): df (DataFrame)\n",
    "# Submission: response (DataFrame)\n",
    "\n",
    "df\n",
    "\n",
    "response = df[(df['petal_width'] < 1)]\n",
    "assert_filter_1_1(response)"
   ],
   "metadata": {
    "collapsed": false,
    "pycharm": {
     "name": "#%%\n"
    }
   }
  },
  {
   "cell_type": "code",
   "execution_count": null,
   "outputs": [],
   "source": [
    "# Return a new DataFrame object with rows that have the petal_width value less than 1 but greater than 0.5.\n",
    "# Given parameter(s): df (DataFrame)\n",
    "# Submission: response (DataFrame)\n",
    "\n",
    "df\n",
    "\n",
    "response = df[(df['petal_width'] > 0.5) & (df['petal_width'] < 1)]\n",
    "assert_filter_1_2(response)\n"
   ],
   "metadata": {
    "collapsed": false,
    "pycharm": {
     "name": "#%%\n"
    }
   }
  },
  {
   "cell_type": "code",
   "execution_count": null,
   "outputs": [],
   "source": [
    "# Using a copy of the original DataFrame, return a modified version of it where the rows are sorted by the petal_length values in ascending order.\n",
    "# Given parameter(s): copy_df (DataFrame)\n",
    "# Submission: response (DataFrame)\n",
    "\n",
    "copy_df = df.copy()\n",
    "\n",
    "response = copy_df.sort_values('petal_length')\n",
    "assert_sort_1_1(response)"
   ],
   "metadata": {
    "collapsed": false,
    "pycharm": {
     "name": "#%%\n"
    }
   }
  },
  {
   "cell_type": "code",
   "execution_count": null,
   "outputs": [],
   "source": [
    "# Using a copy of the original DataFrame, return a modified version of it where the rows are sorted by the petal_length values in descending order.\n",
    "# Given parameter(s): copy_df (DataFrame)\n",
    "# Submission: response (DataFrame)\n",
    "\n",
    "copy_df = df.copy()\n",
    "\n",
    "response = copy_df.sort_values('petal_length', ascending = False)\n",
    "assert_sort_1_2(response)"
   ],
   "metadata": {
    "collapsed": false,
    "pycharm": {
     "name": "#%%\n"
    }
   }
  },
  {
   "cell_type": "code",
   "execution_count": null,
   "outputs": [],
   "source": [
    "# Using a copy of the original DataFrame, return a modified version of it where the rows are sorted by the petal_length in ascending order, then by the petal_width in descending order.\n",
    "# Given parameter(s): copy_df (DataFrame)\n",
    "# Submission: response (DataFrame)\n",
    "\n",
    "copy_df = df.copy()\n",
    "\n",
    "response = copy_df.sort_values(['petal_length', 'petal_width'], ascending = [True, False])\n",
    "assert_sort_1_3(response)"
   ],
   "metadata": {
    "collapsed": false,
    "pycharm": {
     "name": "#%%\n"
    }
   }
  },
  {
   "cell_type": "code",
   "execution_count": null,
   "outputs": [],
   "source": [
    "# Using a copy of the original DataFrame, find the average across all columns for every unique 'petal_width' group.\n",
    "# Given parameter(s): copy_df (DataFrame)\n",
    "# Submission: response (DataFrame)\n",
    "# Hint: You can use groupby() and mean().\n",
    "\n",
    "copy_df = df.copy()\n",
    "\n",
    "response = copy_df.groupby('petal_width').mean()\n",
    "assert_groupby_1_1(response)"
   ],
   "metadata": {
    "collapsed": false,
    "pycharm": {
     "name": "#%%\n"
    }
   }
  },
  {
   "cell_type": "code",
   "execution_count": null,
   "outputs": [],
   "source": [
    "# Using a copy of the original DataFrame, find the max across all columns for every unique 'petal_width' group and every unique 'petal_length' group.\n",
    "# Given parameter(s): copy_df (DataFrame)\n",
    "# Submission: response (DataFrame)\n",
    "# Hint: You can use groupby() and max().\n",
    "\n",
    "copy_df = df.copy()\n",
    "\n",
    "response = copy_df.groupby(['petal_width', 'petal_length']).max()\n",
    "assert_groupby_1_2(response)\n"
   ],
   "metadata": {
    "collapsed": false,
    "pycharm": {
     "name": "#%%\n"
    }
   }
  },
  {
   "cell_type": "code",
   "execution_count": null,
   "outputs": [],
   "source": [
    "# Using a copy of the original DataFrame, return a new DataFrame with the np.mean() function applied across each column.\n",
    "# Given parameter(s): copy_df (DataFrame)\n",
    "# Submission: response (DataFrame)\n",
    "\n",
    "copy_df = df.copy()\n",
    "\n",
    "response = copy_df.iloc[:, :-1].apply(np.mean)\n",
    "assert_apply_1_1(response)"
   ],
   "metadata": {
    "collapsed": false,
    "pycharm": {
     "name": "#%%\n"
    }
   }
  },
  {
   "cell_type": "markdown",
   "source": [
    "#### Joining Multiple DataFrames\n",
    "##### Please use the following dataframes to respond below."
   ],
   "metadata": {
    "collapsed": false,
    "pycharm": {
     "name": "#%% md\n"
    }
   }
  },
  {
   "cell_type": "code",
   "execution_count": null,
   "outputs": [],
   "source": [
    "left_df = db.left_half_dataframe\n",
    "right_df = db.right_half_dataframe\n",
    "top_df = db.top_half_dataframe\n",
    "bottom_df = db.bottom_half_dataframe\n"
   ],
   "metadata": {
    "collapsed": false,
    "pycharm": {
     "name": "#%%\n"
    }
   }
  },
  {
   "cell_type": "code",
   "execution_count": null,
   "outputs": [],
   "source": [
    "# Add the rows bottom_df to the end of top_df.\n",
    "# Given parameter(s): top_df (DataFrame) / bottom_df (DataFrame)\n",
    "# Submission: response (DataFrame)\n",
    "top_df\n",
    "bottom_df\n",
    "\n",
    "response = top_df.append(bottom_df)\n",
    "assert_joining_1_1(response)\n",
    "response"
   ],
   "metadata": {
    "collapsed": false,
    "pycharm": {
     "name": "#%%\n"
    }
   }
  },
  {
   "cell_type": "code",
   "execution_count": null,
   "outputs": [],
   "source": [
    "# Add the rows top_df to the end of bottom_df.\n",
    "# Given parameter(s): top_df (DataFrame) / bottom_df (DataFrame)\n",
    "# Submission: response (DataFrame)\n",
    "top_df\n",
    "bottom_df\n",
    "\n",
    "response = bottom_df.append(top_df)\n",
    "assert_joining_1_2(response)"
   ],
   "metadata": {
    "collapsed": false,
    "pycharm": {
     "name": "#%%\n"
    }
   }
  },
  {
   "cell_type": "code",
   "execution_count": null,
   "outputs": [],
   "source": [
    "# Add the columns right_df to the right of left_df.\n",
    "# Given parameter(s): right_df (DataFrame) / left_df (DataFrame)\n",
    "# Submission: response (DataFrame)\n",
    "\n",
    "right_df\n",
    "left_df\n",
    "\n",
    "response = pd.concat([left_df, right_df], axis = 1)\n",
    "assert_joining_2_1(response)"
   ],
   "metadata": {
    "collapsed": false,
    "pycharm": {
     "name": "#%%\n"
    }
   }
  },
  {
   "cell_type": "code",
   "execution_count": null,
   "outputs": [],
   "source": [
    "# Add the columns left_df to the right of right_df.\n",
    "# Given parameter(s): right_df (DataFrame) / left_df (DataFrame)\n",
    "# Submission: response (DataFrame)\n",
    "right_df\n",
    "left_df\n",
    "\n",
    "response = pd.concat([right_df, left_df], axis = 1)\n",
    "assert_joining_2_2(response)"
   ],
   "metadata": {
    "collapsed": false,
    "pycharm": {
     "name": "#%%\n"
    }
   }
  },
  {
   "cell_type": "markdown",
   "source": [
    "#### Statistics"
   ],
   "metadata": {
    "collapsed": false,
    "pycharm": {
     "name": "#%% md\n"
    }
   }
  },
  {
   "cell_type": "code",
   "execution_count": null,
   "outputs": [],
   "source": [
    "# Return a description matrix of the given DataFrame, which displays the count, mean, standard deviation, minimum, maximum, 25th percentile, 50th percentile, and the 75th percentile.\n",
    "# Given parameter(s): df (DataFrame)\n",
    "# Submission: response (DataFrame)\n",
    "\n",
    "df\n",
    "\n",
    "response = df.describe()\n",
    "assert_statistics_1_1(response)"
   ],
   "metadata": {
    "collapsed": false,
    "pycharm": {
     "name": "#%%\n"
    }
   }
  },
  {
   "cell_type": "code",
   "execution_count": null,
   "outputs": [],
   "source": [
    "# Return a correlation matrix, which shows the correlations of pairs across each column.\n",
    "# Given parameter(s): df (DataFrame)\n",
    "# Submission: response (DataFrame)\n",
    "\n",
    "df\n",
    "\n",
    "response = df.corr()\n",
    "assert_statistics_2_1(response)"
   ],
   "metadata": {
    "collapsed": false,
    "pycharm": {
     "name": "#%%\n"
    }
   }
  },
  {
   "cell_type": "markdown",
   "source": [
    "\n",
    "### Congratulations! You finished the basic introduction to the Pandas library!"
   ],
   "metadata": {
    "collapsed": false,
    "pycharm": {
     "name": "#%% md\n"
    }
   }
  }
 ],
 "metadata": {
  "kernelspec": {
   "display_name": "Python 3",
   "language": "python",
   "name": "python3"
  },
  "language_info": {
   "codemirror_mode": {
    "name": "ipython",
    "version": 2
   },
   "file_extension": ".py",
   "mimetype": "text/x-python",
   "name": "python",
   "nbconvert_exporter": "python",
   "pygments_lexer": "ipython2",
   "version": "2.7.6"
  }
 },
 "nbformat": 4,
 "nbformat_minor": 0
}