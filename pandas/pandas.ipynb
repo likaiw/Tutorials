{
 "cells": [
  {
   "cell_type": "markdown",
   "source": [
    "## Setup\n"
   ],
   "metadata": {
    "collapsed": false
   }
  },
  {
   "cell_type": "code",
   "execution_count": 1,
   "outputs": [],
   "source": [
    "# Import solution and data\n",
    "\n",
    "from solution import *\n",
    "import databank as db"
   ],
   "metadata": {
    "collapsed": false,
    "pycharm": {
     "name": "#%%\n"
    }
   }
  },
  {
   "cell_type": "code",
   "execution_count": 2,
   "outputs": [],
   "source": [
    "# Pandas import convention\n",
    "\n",
    "import pandas as pd"
   ],
   "metadata": {
    "collapsed": false,
    "pycharm": {
     "name": "#%%\n"
    }
   }
  },
  {
   "cell_type": "markdown",
   "source": [
    "### Series"
   ],
   "metadata": {
    "collapsed": false,
    "pycharm": {
     "name": "#%% md\n"
    }
   }
  },
  {
   "cell_type": "markdown",
   "source": [
    "#### Constructor"
   ],
   "metadata": {
    "collapsed": false,
    "pycharm": {
     "name": "#%% md\n"
    }
   }
  },
  {
   "cell_type": "code",
   "execution_count": 3,
   "outputs": [
    {
     "name": "stdout",
     "output_type": "stream",
     "text": [
      "\n",
      "******************************\n",
      "***   Correct, good job!   ***\n",
      "******************************\n",
      "                \n",
      "Your response:\n",
      "1    a\n",
      "2    b\n",
      "3    c\n",
      "4    d\n",
      "dtype: object\n",
      "\n",
      "Correct answer:\n",
      "1    a\n",
      "2    b\n",
      "3    c\n",
      "4    d\n",
      "dtype: object\n",
      "\n"
     ]
    }
   ],
   "source": [
    "# Create a Series with index 1, 2, 3, 4 and values of a, b, c, d, using only the constructor.\n",
    "# Given parameter(s): None\n",
    "# Submission: response (Series)\n",
    "\n",
    "response = pd.Series(data=['a','b','c','d'], index=[1,2,3,4])\n",
    "assert_series_constructor_data_value_1(response)"
   ],
   "metadata": {
    "collapsed": false,
    "pycharm": {
     "name": "#%%\n"
    }
   }
  },
  {
   "cell_type": "code",
   "execution_count": 4,
   "outputs": [
    {
     "name": "stdout",
     "output_type": "stream",
     "text": [
      "\n",
      "******************************\n",
      "***   Correct, good job!   ***\n",
      "******************************\n",
      "                \n",
      "Your response:\n",
      "a    1\n",
      "b    2\n",
      "c    3\n",
      "d    4\n",
      "dtype: int64\n",
      "\n",
      "Correct answer:\n",
      "a    1\n",
      "b    2\n",
      "c    3\n",
      "d    4\n",
      "dtype: int64\n",
      "\n"
     ]
    }
   ],
   "source": [
    "# Create a Series with index a, b, c, d and values of 1, 2, 3, 4, using only the constructor.\n",
    "# Given parameter(s): None\n",
    "# Submission: response (Series)\n",
    "\n",
    "response = pd.Series([1, 2, 3, 4], index=['a', 'b', 'c', 'd'])\n",
    "assert_series_constructor_data_value_2(response)"
   ],
   "metadata": {
    "collapsed": false,
    "pycharm": {
     "name": "#%%\n"
    }
   }
  },
  {
   "cell_type": "code",
   "execution_count": 5,
   "outputs": [
    {
     "name": "stdout",
     "output_type": "stream",
     "text": [
      "\n",
      "******************************\n",
      "***   Correct, good job!   ***\n",
      "******************************\n",
      "                \n",
      "Your response:\n",
      "0    1.0\n",
      "1    2.0\n",
      "2    3.0\n",
      "3    4.0\n",
      "dtype: float64\n",
      "\n",
      "Correct answer:\n",
      "0    1.0\n",
      "1    2.0\n",
      "2    3.0\n",
      "3    4.0\n",
      "dtype: float64\n",
      "\n"
     ]
    }
   ],
   "source": [
    "# Create a Series with the given data. The data is an array of integers but the Series must contain data of type float.\n",
    "# Given parameter(s): data ([Int])\n",
    "# Submission: response (Series)\n",
    "# Hint: Check what other parameters the Series constructor takes in.\n",
    "\n",
    "data = [1,2,3,4]\n",
    "response = pd.Series(data, dtype=float)\n",
    "assert_series_constructor_dtype_1(response)"
   ],
   "metadata": {
    "collapsed": false,
    "pycharm": {
     "name": "#%%\n"
    }
   }
  },
  {
   "cell_type": "code",
   "execution_count": 6,
   "outputs": [
    {
     "name": "stdout",
     "output_type": "stream",
     "text": [
      "\n",
      "******************************\n",
      "***   Correct, good job!   ***\n",
      "******************************\n",
      "                \n",
      "Your response:\n",
      "a    1\n",
      "b    2\n",
      "c    3\n",
      "d    4\n",
      "Name: MySeries, dtype: int64\n",
      "\n",
      "Correct answer:\n",
      "a    1\n",
      "b    2\n",
      "c    3\n",
      "d    4\n",
      "Name: MySeries, dtype: int64\n",
      "\n"
     ]
    }
   ],
   "source": [
    "# Given the following parameters, create an empty Series, and name it 'MySeries'.\n",
    "# Given parameter(s): data ([Int]), index ([Str]), dtype (Int)\n",
    "# Submission: response (Series)\n",
    "\n",
    "data = [1,2,3,4]\n",
    "index = ['a','b','c','d']\n",
    "dtype = int\n",
    "\n",
    "response = pd.Series(data, index, dtype, 'MySeries')\n",
    "assert_series_constructor_name_1(response)"
   ],
   "metadata": {
    "collapsed": false,
    "pycharm": {
     "name": "#%%\n"
    }
   }
  },
  {
   "cell_type": "markdown",
   "source": [
    "#### Attributes"
   ],
   "metadata": {
    "collapsed": false,
    "pycharm": {
     "name": "#%% md\n"
    }
   }
  },
  {
   "cell_type": "code",
   "execution_count": 7,
   "outputs": [
    {
     "name": "stdout",
     "output_type": "stream",
     "text": [
      "\n",
      "******************************\n",
      "***   Correct, good job!   ***\n",
      "******************************\n",
      "                \n",
      "Your response:\n",
      "(13,)\n",
      "\n",
      "Correct answer:\n",
      "(13,)\n",
      "\n"
     ]
    }
   ],
   "source": [
    "# Return a tuple of the shape of the given series object. You must use one of the already available attributes to submit your response. No peeking at the given series object!\n",
    "# Given parameter(s): series (Series)\n",
    "# Submission: response (Series)\n",
    "\n",
    "series = db.shape_data\n",
    "\n",
    "response = series.shape\n",
    "assert_series_attribute_shape_1(response)"
   ],
   "metadata": {
    "collapsed": false,
    "pycharm": {
     "name": "#%%\n"
    }
   }
  },
  {
   "cell_type": "markdown",
   "source": [
    "### Dataframe"
   ],
   "metadata": {
    "collapsed": false
   }
  },
  {
   "cell_type": "markdown",
   "source": [
    "#### Constructor"
   ],
   "metadata": {
    "collapsed": false
   }
  },
  {
   "cell_type": "code",
   "execution_count": 8,
   "outputs": [
    {
     "name": "stdout",
     "output_type": "stream",
     "text": [
      "\n",
      "******************************\n",
      "***   Correct, good job!   ***\n",
      "******************************\n",
      "                \n",
      "Your response:\n",
      "   0  1  2\n",
      "0  1  2  3\n",
      "1  4  5  6\n",
      "2  7  8  9\n",
      "\n",
      "Correct answer:\n",
      "   0  1  2\n",
      "0  1  2  3\n",
      "1  4  5  6\n",
      "2  7  8  9\n",
      "\n"
     ]
    }
   ],
   "source": [
    "# Create a DataFrame object, where 1, 2, 3 are in the first row, 4, 5, 6, are in the second row, and 7, 8, 9 are in the third row.\n",
    "# Given parameter(s): None\n",
    "# Submission: response (DataFrame)\n",
    "\n",
    "response = db.basic_dataframe\n",
    "assert_dataframe_constructor_1(response)"
   ],
   "metadata": {
    "collapsed": false,
    "pycharm": {
     "name": "#%%\n"
    }
   }
  },
  {
   "cell_type": "code",
   "execution_count": 9,
   "outputs": [
    {
     "name": "stdout",
     "output_type": "stream",
     "text": [
      "\n",
      "******************************\n",
      "***   Correct, good job!   ***\n",
      "******************************\n",
      "                \n",
      "Your response:\n",
      "   x  y  z\n",
      "0  1  2  3\n",
      "1  4  5  6\n",
      "2  7  8  9\n",
      "\n",
      "Correct answer:\n",
      "   x  y  z\n",
      "0  1  2  3\n",
      "1  4  5  6\n",
      "2  7  8  9\n",
      "\n"
     ]
    }
   ],
   "source": [
    "# Given the same dataframe as above, modify it so that the columns are x, y, and z.\n",
    "# Given parameter(s): None\n",
    "# Submission: response (DataFrame)\n",
    "\n",
    "response = db.basic_dataframe\n",
    "response.columns = ['x', 'y', 'z']\n",
    "assert_dataframe_constructor_2(response)"
   ],
   "metadata": {
    "collapsed": false,
    "pycharm": {
     "name": "#%%\n"
    }
   }
  },
  {
   "cell_type": "markdown",
   "source": [
    "### General Functions\n",
    "##### We will use the iris sample data set to practice using series and dataframes. Although there are multiple workarounds to return the same answer, the point of this exercise is to use the built-in pandas functions to come up with the most concise and elegant solutions."
   ],
   "metadata": {
    "collapsed": false,
    "pycharm": {
     "name": "#%% md\n"
    }
   }
  },
  {
   "cell_type": "code",
   "execution_count": 10,
   "outputs": [],
   "source": [
    "data = pd.read_csv('https://raw.githubusercontent.com/mwaskom/seaborn-data/master/iris.csv')"
   ],
   "metadata": {
    "collapsed": false,
    "pycharm": {
     "name": "#%%\n"
    }
   }
  },
  {
   "cell_type": "code",
   "execution_count": 11,
   "outputs": [
    {
     "data": {
      "text/plain": "pandas.core.frame.DataFrame"
     },
     "execution_count": 11,
     "metadata": {},
     "output_type": "execute_result"
    }
   ],
   "source": [
    "# The data is already in the dataframe type.\n",
    "type(data)"
   ],
   "metadata": {
    "collapsed": false,
    "pycharm": {
     "name": "#%%\n"
    }
   }
  },
  {
   "cell_type": "code",
   "execution_count": 12,
   "outputs": [
    {
     "data": {
      "text/plain": "     sepal_length  sepal_width  petal_length  petal_width    species\n0             5.1          3.5           1.4          0.2     setosa\n1             4.9          3.0           1.4          0.2     setosa\n2             4.7          3.2           1.3          0.2     setosa\n3             4.6          3.1           1.5          0.2     setosa\n4             5.0          3.6           1.4          0.2     setosa\n..            ...          ...           ...          ...        ...\n145           6.7          3.0           5.2          2.3  virginica\n146           6.3          2.5           5.0          1.9  virginica\n147           6.5          3.0           5.2          2.0  virginica\n148           6.2          3.4           5.4          2.3  virginica\n149           5.9          3.0           5.1          1.8  virginica\n\n[150 rows x 5 columns]",
      "text/html": "<div>\n<style scoped>\n    .dataframe tbody tr th:only-of-type {\n        vertical-align: middle;\n    }\n\n    .dataframe tbody tr th {\n        vertical-align: top;\n    }\n\n    .dataframe thead th {\n        text-align: right;\n    }\n</style>\n<table border=\"1\" class=\"dataframe\">\n  <thead>\n    <tr style=\"text-align: right;\">\n      <th></th>\n      <th>sepal_length</th>\n      <th>sepal_width</th>\n      <th>petal_length</th>\n      <th>petal_width</th>\n      <th>species</th>\n    </tr>\n  </thead>\n  <tbody>\n    <tr>\n      <th>0</th>\n      <td>5.1</td>\n      <td>3.5</td>\n      <td>1.4</td>\n      <td>0.2</td>\n      <td>setosa</td>\n    </tr>\n    <tr>\n      <th>1</th>\n      <td>4.9</td>\n      <td>3.0</td>\n      <td>1.4</td>\n      <td>0.2</td>\n      <td>setosa</td>\n    </tr>\n    <tr>\n      <th>2</th>\n      <td>4.7</td>\n      <td>3.2</td>\n      <td>1.3</td>\n      <td>0.2</td>\n      <td>setosa</td>\n    </tr>\n    <tr>\n      <th>3</th>\n      <td>4.6</td>\n      <td>3.1</td>\n      <td>1.5</td>\n      <td>0.2</td>\n      <td>setosa</td>\n    </tr>\n    <tr>\n      <th>4</th>\n      <td>5.0</td>\n      <td>3.6</td>\n      <td>1.4</td>\n      <td>0.2</td>\n      <td>setosa</td>\n    </tr>\n    <tr>\n      <th>...</th>\n      <td>...</td>\n      <td>...</td>\n      <td>...</td>\n      <td>...</td>\n      <td>...</td>\n    </tr>\n    <tr>\n      <th>145</th>\n      <td>6.7</td>\n      <td>3.0</td>\n      <td>5.2</td>\n      <td>2.3</td>\n      <td>virginica</td>\n    </tr>\n    <tr>\n      <th>146</th>\n      <td>6.3</td>\n      <td>2.5</td>\n      <td>5.0</td>\n      <td>1.9</td>\n      <td>virginica</td>\n    </tr>\n    <tr>\n      <th>147</th>\n      <td>6.5</td>\n      <td>3.0</td>\n      <td>5.2</td>\n      <td>2.0</td>\n      <td>virginica</td>\n    </tr>\n    <tr>\n      <th>148</th>\n      <td>6.2</td>\n      <td>3.4</td>\n      <td>5.4</td>\n      <td>2.3</td>\n      <td>virginica</td>\n    </tr>\n    <tr>\n      <th>149</th>\n      <td>5.9</td>\n      <td>3.0</td>\n      <td>5.1</td>\n      <td>1.8</td>\n      <td>virginica</td>\n    </tr>\n  </tbody>\n</table>\n<p>150 rows × 5 columns</p>\n</div>"
     },
     "execution_count": 12,
     "metadata": {},
     "output_type": "execute_result"
    }
   ],
   "source": [
    "# Rename the object to df.\n",
    "df = data\n",
    "df"
   ],
   "metadata": {
    "collapsed": false,
    "pycharm": {
     "name": "#%%\n"
    }
   }
  },
  {
   "cell_type": "code",
   "execution_count": 13,
   "outputs": [
    {
     "data": {
      "text/plain": "0      5.1\n1      4.9\n2      4.7\n3      4.6\n4      5.0\n      ... \n145    6.7\n146    6.3\n147    6.5\n148    6.2\n149    5.9\nName: sepal_length, Length: 150, dtype: float64"
     },
     "execution_count": 13,
     "metadata": {},
     "output_type": "execute_result"
    }
   ],
   "source": [
    "# We will extract a series object from the dataframe.\n",
    "s = data['sepal_length']\n",
    "s"
   ],
   "metadata": {
    "collapsed": false,
    "pycharm": {
     "name": "#%%\n"
    }
   }
  },
  {
   "cell_type": "code",
   "execution_count": 14,
   "outputs": [
    {
     "data": {
      "text/plain": "pandas.core.series.Series"
     },
     "execution_count": 14,
     "metadata": {},
     "output_type": "execute_result"
    }
   ],
   "source": [
    "# You can confirm here that the object type is Series.\n",
    "type(s)"
   ],
   "metadata": {
    "collapsed": false,
    "pycharm": {
     "name": "#%%\n"
    }
   }
  },
  {
   "cell_type": "markdown",
   "source": [
    "##### We now have our dataframe and series object to practice with."
   ],
   "metadata": {
    "collapsed": false,
    "pycharm": {
     "name": "#%% md\n"
    }
   }
  },
  {
   "cell_type": "markdown",
   "source": [
    "#### Viewing Data"
   ],
   "metadata": {
    "collapsed": false
   }
  },
  {
   "cell_type": "code",
   "execution_count": 15,
   "outputs": [
    {
     "name": "stdout",
     "output_type": "stream",
     "text": [
      "\n",
      "******************************\n",
      "***   Correct, good job!   ***\n",
      "******************************\n",
      "                \n",
      "Your response:\n",
      "   sepal_length  sepal_width  petal_length  petal_width species\n",
      "0           5.1          3.5           1.4          0.2  setosa\n",
      "1           4.9          3.0           1.4          0.2  setosa\n",
      "2           4.7          3.2           1.3          0.2  setosa\n",
      "3           4.6          3.1           1.5          0.2  setosa\n",
      "4           5.0          3.6           1.4          0.2  setosa\n",
      "5           5.4          3.9           1.7          0.4  setosa\n",
      "6           4.6          3.4           1.4          0.3  setosa\n",
      "7           5.0          3.4           1.5          0.2  setosa\n",
      "8           4.4          2.9           1.4          0.2  setosa\n",
      "9           4.9          3.1           1.5          0.1  setosa\n",
      "\n",
      "Correct answer:\n",
      "   sepal_length  sepal_width  petal_length  petal_width species\n",
      "0           5.1          3.5           1.4          0.2  setosa\n",
      "1           4.9          3.0           1.4          0.2  setosa\n",
      "2           4.7          3.2           1.3          0.2  setosa\n",
      "3           4.6          3.1           1.5          0.2  setosa\n",
      "4           5.0          3.6           1.4          0.2  setosa\n",
      "5           5.4          3.9           1.7          0.4  setosa\n",
      "6           4.6          3.4           1.4          0.3  setosa\n",
      "7           5.0          3.4           1.5          0.2  setosa\n",
      "8           4.4          2.9           1.4          0.2  setosa\n",
      "9           4.9          3.1           1.5          0.1  setosa\n",
      "\n"
     ]
    }
   ],
   "source": [
    "# Return the first 10 rows of the given DataFrame.\n",
    "# Given parameter(s): df (DataFrame)\n",
    "# Submission: response (DataFrame)\n",
    "# Hint: The function name is a part of your body!\n",
    "\n",
    "df\n",
    "\n",
    "response = df.head(10)\n",
    "assert_viewing_1_1(response)"
   ],
   "metadata": {
    "collapsed": false,
    "pycharm": {
     "name": "#%%\n"
    }
   }
  },
  {
   "cell_type": "code",
   "execution_count": 16,
   "outputs": [
    {
     "name": "stdout",
     "output_type": "stream",
     "text": [
      "\n",
      "******************************\n",
      "***   Correct, good job!   ***\n",
      "******************************\n",
      "                \n",
      "Your response:\n",
      "     sepal_length  sepal_width  petal_length  petal_width    species\n",
      "140           6.7          3.1           5.6          2.4  virginica\n",
      "141           6.9          3.1           5.1          2.3  virginica\n",
      "142           5.8          2.7           5.1          1.9  virginica\n",
      "143           6.8          3.2           5.9          2.3  virginica\n",
      "144           6.7          3.3           5.7          2.5  virginica\n",
      "145           6.7          3.0           5.2          2.3  virginica\n",
      "146           6.3          2.5           5.0          1.9  virginica\n",
      "147           6.5          3.0           5.2          2.0  virginica\n",
      "148           6.2          3.4           5.4          2.3  virginica\n",
      "149           5.9          3.0           5.1          1.8  virginica\n",
      "\n",
      "Correct answer:\n",
      "     sepal_length  sepal_width  petal_length  petal_width    species\n",
      "140           6.7          3.1           5.6          2.4  virginica\n",
      "141           6.9          3.1           5.1          2.3  virginica\n",
      "142           5.8          2.7           5.1          1.9  virginica\n",
      "143           6.8          3.2           5.9          2.3  virginica\n",
      "144           6.7          3.3           5.7          2.5  virginica\n",
      "145           6.7          3.0           5.2          2.3  virginica\n",
      "146           6.3          2.5           5.0          1.9  virginica\n",
      "147           6.5          3.0           5.2          2.0  virginica\n",
      "148           6.2          3.4           5.4          2.3  virginica\n",
      "149           5.9          3.0           5.1          1.8  virginica\n",
      "\n"
     ]
    }
   ],
   "source": [
    "# Return the last 10 rows of the given DataFrame.\n",
    "# Given parameter(s): df (DataFrame)\n",
    "# Submission: response (DataFrame)\n",
    "# Hint: Some animals have this body part, but you don't!\n",
    "\n",
    "df\n",
    "\n",
    "response = df.tail(10)\n",
    "assert_viewing_2_1(response)"
   ],
   "metadata": {
    "collapsed": false,
    "pycharm": {
     "name": "#%%\n"
    }
   }
  },
  {
   "cell_type": "code",
   "execution_count": 17,
   "outputs": [
    {
     "name": "stdout",
     "output_type": "stream",
     "text": [
      "\n",
      "******************************\n",
      "***   Correct, good job!   ***\n",
      "******************************\n",
      "                \n",
      "Your response:\n",
      "(150, 5)\n",
      "\n",
      "Correct answer:\n",
      "(150, 5)\n",
      "\n"
     ]
    }
   ],
   "source": [
    "# Return the # of rows and columns in the form of tuple.\n",
    "# Given parameter(s): df (DataFrame)\n",
    "# Submission: response (Tuple)\n",
    "\n",
    "df\n",
    "\n",
    "response = df.shape\n",
    "assert_viewing_3_1(response)"
   ],
   "metadata": {
    "collapsed": false,
    "pycharm": {
     "name": "#%%\n"
    }
   }
  },
  {
   "cell_type": "code",
   "execution_count": 18,
   "outputs": [
    {
     "name": "stdout",
     "output_type": "stream",
     "text": [
      "\n",
      "******************************\n",
      "***   Correct, good job!   ***\n",
      "******************************\n",
      "                \n",
      "Your response:\n",
      "object\n",
      "\n",
      "Correct answer:\n",
      "object\n",
      "\n"
     ]
    }
   ],
   "source": [
    "# What is the dtype for the species column?\n",
    "# Given parameter(s): df (DataFrame)\n",
    "# Submission: response (Str)\n",
    "\n",
    "df\n",
    "\n",
    "response = 'object'\n",
    "assert_viewing_4_1(response)"
   ],
   "metadata": {
    "collapsed": false,
    "pycharm": {
     "name": "#%%\n"
    }
   }
  },
  {
   "cell_type": "code",
   "execution_count": 19,
   "outputs": [
    {
     "name": "stdout",
     "output_type": "stream",
     "text": [
      "\n",
      "******************************\n",
      "***   Correct, good job!   ***\n",
      "******************************\n",
      "                \n",
      "Your response:\n",
      "5.1\n",
      "\n",
      "Correct answer:\n",
      "5.1\n",
      "\n"
     ]
    }
   ],
   "source": [
    "# What is the 75 percentile for petal_length?\n",
    "# Given parameter(s): df (DataFrame)\n",
    "# Submission: response (Int)\n",
    "\n",
    "df\n",
    "\n",
    "response = 5.1\n",
    "assert_viewing_5_1(response)"
   ],
   "metadata": {
    "collapsed": false,
    "pycharm": {
     "name": "#%%\n"
    }
   }
  },
  {
   "cell_type": "code",
   "execution_count": 20,
   "outputs": [
    {
     "name": "stdout",
     "output_type": "stream",
     "text": [
      "\n",
      "******************************\n",
      "***   Correct, good job!   ***\n",
      "******************************\n",
      "                \n",
      "Your response:\n",
      "4\n",
      "\n",
      "Correct answer:\n",
      "4\n",
      "\n"
     ]
    }
   ],
   "source": [
    "# How many counts of value 7.7 exists in the Series?\n",
    "# Given parameter(s): s (Series)\n",
    "# Submission: response (Int)\n",
    "\n",
    "s\n",
    "\n",
    "response = 4\n",
    "assert_viewing_6_1(response)"
   ],
   "metadata": {
    "collapsed": false,
    "pycharm": {
     "name": "#%%\n"
    }
   }
  },
  {
   "cell_type": "code",
   "execution_count": 21,
   "outputs": [
    {
     "name": "stdout",
     "output_type": "stream",
     "text": [
      "\n",
      "******************************\n",
      "***   Correct, good job!   ***\n",
      "******************************\n",
      "                \n",
      "Your response:\n",
      "0      26.01\n",
      "1      24.01\n",
      "2      22.09\n",
      "3      21.16\n",
      "4      25.00\n",
      "       ...  \n",
      "145    44.89\n",
      "146    39.69\n",
      "147    42.25\n",
      "148    38.44\n",
      "149    34.81\n",
      "Name: sepal_length, Length: 150, dtype: float64\n",
      "\n",
      "Correct answer:\n",
      "0      26.01\n",
      "1      24.01\n",
      "2      22.09\n",
      "3      21.16\n",
      "4      25.00\n",
      "       ...  \n",
      "145    44.89\n",
      "146    39.69\n",
      "147    42.25\n",
      "148    38.44\n",
      "149    34.81\n",
      "Name: sepal_length, Length: 150, dtype: float64\n",
      "\n"
     ]
    }
   ],
   "source": [
    "# Return a Series of sepal_length with all the values squared.\n",
    "# Given parameter(s): df (DataFrame)\n",
    "# Submission: response (Series)\n",
    "\n",
    "import numpy as np\n",
    "\n",
    "response = df.copy()['sepal_length']\n",
    "response = response.apply(np.square)\n",
    "assert_viewing_7_1(response)"
   ],
   "metadata": {
    "collapsed": false,
    "pycharm": {
     "name": "#%%\n"
    }
   }
  },
  {
   "cell_type": "markdown",
   "source": [
    "#### Selecting Data"
   ],
   "metadata": {
    "collapsed": false
   }
  },
  {
   "cell_type": "code",
   "execution_count": 22,
   "outputs": [
    {
     "name": "stdout",
     "output_type": "stream",
     "text": [
      "\n",
      "******************************\n",
      "***   Correct, good job!   ***\n",
      "******************************\n",
      "                \n",
      "Your response:\n",
      "0      0.2\n",
      "1      0.2\n",
      "2      0.2\n",
      "3      0.2\n",
      "4      0.2\n",
      "      ... \n",
      "145    2.3\n",
      "146    1.9\n",
      "147    2.0\n",
      "148    2.3\n",
      "149    1.8\n",
      "Name: petal_width, Length: 150, dtype: float64\n",
      "\n",
      "Correct answer:\n",
      "0      0.2\n",
      "1      0.2\n",
      "2      0.2\n",
      "3      0.2\n",
      "4      0.2\n",
      "      ... \n",
      "145    2.3\n",
      "146    1.9\n",
      "147    2.0\n",
      "148    2.3\n",
      "149    1.8\n",
      "Name: petal_width, Length: 150, dtype: float64\n",
      "\n"
     ]
    }
   ],
   "source": [
    "# Return the petal_width column as a Series.\n",
    "# Given parameter(s): df (DataFrame)\n",
    "# Submission: response (Series)\n",
    "\n",
    "df\n",
    "\n",
    "response = df['petal_width']\n",
    "assert_selecting_1_1(response)"
   ],
   "metadata": {
    "collapsed": false,
    "pycharm": {
     "name": "#%%\n"
    }
   }
  },
  {
   "cell_type": "code",
   "execution_count": 23,
   "outputs": [
    {
     "name": "stdout",
     "output_type": "stream",
     "text": [
      "\n",
      "******************************\n",
      "***   Correct, good job!   ***\n",
      "******************************\n",
      "                \n",
      "Your response:\n",
      "     petal_width  petal_length\n",
      "0            0.2           1.4\n",
      "1            0.2           1.4\n",
      "2            0.2           1.3\n",
      "3            0.2           1.5\n",
      "4            0.2           1.4\n",
      "..           ...           ...\n",
      "145          2.3           5.2\n",
      "146          1.9           5.0\n",
      "147          2.0           5.2\n",
      "148          2.3           5.4\n",
      "149          1.8           5.1\n",
      "\n",
      "[150 rows x 2 columns]\n",
      "\n",
      "Correct answer:\n",
      "     petal_width  petal_length\n",
      "0            0.2           1.4\n",
      "1            0.2           1.4\n",
      "2            0.2           1.3\n",
      "3            0.2           1.5\n",
      "4            0.2           1.4\n",
      "..           ...           ...\n",
      "145          2.3           5.2\n",
      "146          1.9           5.0\n",
      "147          2.0           5.2\n",
      "148          2.3           5.4\n",
      "149          1.8           5.1\n",
      "\n",
      "[150 rows x 2 columns]\n",
      "\n"
     ]
    }
   ],
   "source": [
    "# Return the sepal_length and sepal_width columns as a DataFrame.\n",
    "# Given parameter(s): df (DataFrame)\n",
    "# Submission: response (DataFrame)\n",
    "\n",
    "df\n",
    "\n",
    "response = df[['petal_width', 'petal_length']]\n",
    "assert_selecting_2_1(response)"
   ],
   "metadata": {
    "collapsed": false,
    "pycharm": {
     "name": "#%%\n"
    }
   }
  },
  {
   "cell_type": "code",
   "execution_count": 24,
   "outputs": [
    {
     "name": "stdout",
     "output_type": "stream",
     "text": [
      "\n",
      "******************************\n",
      "***   Correct, good job!   ***\n",
      "******************************\n",
      "                \n",
      "Your response:\n",
      "6.3\n",
      "\n",
      "Correct answer:\n",
      "6.3\n",
      "\n"
     ]
    }
   ],
   "source": [
    "# Return the value at position 100 in the Series.\n",
    "# Given parameter(s): s (Series)\n",
    "# Submission: response (Int)\n",
    "\n",
    "s\n",
    "\n",
    "response = s.iloc[100]\n",
    "assert_selecting_3_1(response)"
   ],
   "metadata": {
    "collapsed": false,
    "pycharm": {
     "name": "#%%\n"
    }
   }
  },
  {
   "cell_type": "code",
   "execution_count": 25,
   "outputs": [
    {
     "name": "stdout",
     "output_type": "stream",
     "text": [
      "\n",
      "*********************************\n",
      "***   Incorrect, try again!   ***\n",
      "*********************************\n",
      "            \n",
      "Your response:\n",
      "3.3\n",
      "\n",
      "Correct answer:\n",
      "6.3\n",
      "\n"
     ]
    }
   ],
   "source": [
    "# Return the value at index '100th_index' in the given Series.\n",
    "# Given parameter(s): modified_index_s (Series)\n",
    "# Submission: response (Int)\n",
    "\n",
    "modified_index_s = db.modified_index_s\n",
    "\n",
    "response = modified_index_s.loc['100th_index']\n",
    "assert_selecting_4_1(response)"
   ],
   "metadata": {
    "collapsed": false,
    "pycharm": {
     "name": "#%%\n"
    }
   }
  },
  {
   "cell_type": "code",
   "execution_count": 26,
   "outputs": [
    {
     "name": "stdout",
     "output_type": "stream",
     "text": [
      "\n",
      "******************************\n",
      "***   Correct, good job!   ***\n",
      "******************************\n",
      "                \n",
      "Your response:\n",
      "0.4\n",
      "\n",
      "Correct answer:\n",
      "0.4\n",
      "\n"
     ]
    }
   ],
   "source": [
    "# Return the value at row index 15 and column index 3 in the DataFrame.\n",
    "# Given parameter(s): df (DataFrame)\n",
    "# Submission: response (Int)\n",
    "\n",
    "df\n",
    "\n",
    "response = df.iloc[15, 3]\n",
    "assert_selecting_5_1(response)"
   ],
   "metadata": {
    "collapsed": false,
    "pycharm": {
     "name": "#%%\n"
    }
   }
  },
  {
   "cell_type": "code",
   "execution_count": 27,
   "outputs": [
    {
     "name": "stdout",
     "output_type": "stream",
     "text": [
      "\n",
      "******************************\n",
      "***   Correct, good job!   ***\n",
      "******************************\n",
      "                \n",
      "Your response:\n",
      "sepal_length       4.6\n",
      "sepal_width        3.1\n",
      "petal_length       1.5\n",
      "petal_width        0.2\n",
      "species         setosa\n",
      "Name: 3, dtype: object\n",
      "\n",
      "Correct answer:\n",
      "sepal_length       4.6\n",
      "sepal_width        3.1\n",
      "petal_length       1.5\n",
      "petal_width        0.2\n",
      "species         setosa\n",
      "Name: 3, dtype: object\n",
      "\n"
     ]
    }
   ],
   "source": [
    "# Return the values at row index 3 in the DataFrame as a Series.\n",
    "# Given parameter(s): df (DataFrame)\n",
    "# Submission: response (Series)\n",
    "\n",
    "df\n",
    "\n",
    "response = df.iloc[3, :]\n",
    "assert_selecting_5_2(response)"
   ],
   "metadata": {
    "collapsed": false,
    "pycharm": {
     "name": "#%%\n"
    }
   }
  },
  {
   "cell_type": "code",
   "execution_count": 28,
   "outputs": [
    {
     "name": "stdout",
     "output_type": "stream",
     "text": [
      "\n",
      "******************************\n",
      "***   Correct, good job!   ***\n",
      "******************************\n",
      "                \n",
      "Your response:\n",
      "    sepal_width  petal_length\n",
      "18          3.8           1.7\n",
      "19          3.8           1.5\n",
      "\n",
      "Correct answer:\n",
      "    sepal_width  petal_length\n",
      "18          3.8           1.7\n",
      "19          3.8           1.5\n",
      "\n"
     ]
    }
   ],
   "source": [
    "# Return the values at row indices 18 to 20 (exclusive) and column indices 1 to 3 (exclusive) in the DataFrame as a DataFrame.\n",
    "# Given parameter(s): df (DataFrame)\n",
    "# Submission: response (DataFrame)\n",
    "\n",
    "df\n",
    "\n",
    "response = df.iloc[18:20, 1:3]\n",
    "assert_selecting_5_3(response)"
   ],
   "metadata": {
    "collapsed": false,
    "pycharm": {
     "name": "#%%\n"
    }
   }
  },
  {
   "cell_type": "markdown",
   "source": [
    "#### Cleaning\n",
    "##### We will use the iris sample data set to practice using series and dataframes. This time, however, I have modified the dataframe so as to include NaN values, as shown below."
   ],
   "metadata": {
    "collapsed": false
   }
  },
  {
   "cell_type": "code",
   "execution_count": 29,
   "outputs": [],
   "source": [
    "modified_df = db.modified_iris_dataframe\n",
    "modified_s = df['sepal_width']"
   ],
   "metadata": {
    "collapsed": false,
    "pycharm": {
     "name": "#%%\n"
    }
   }
  },
  {
   "cell_type": "code",
   "execution_count": 30,
   "outputs": [
    {
     "name": "stdout",
     "output_type": "stream",
     "text": [
      "\n",
      "******************************\n",
      "***   Correct, good job!   ***\n",
      "******************************\n",
      "                \n",
      "Your response:\n",
      "     sepal_length  sepal_width  petal_length  petal_width    species\n",
      "0             5.1          3.5           1.4          0.2     setosa\n",
      "1             4.9          3.0           1.4          0.2     setosa\n",
      "7             5.0          3.4           1.5          0.2     setosa\n",
      "8             4.4          2.9           1.4          0.2     setosa\n",
      "9             4.9          3.1           1.5          0.1     setosa\n",
      "..            ...          ...           ...          ...        ...\n",
      "135           7.7          3.0           6.1          2.3  virginica\n",
      "136           6.3          3.4           5.6          2.4  virginica\n",
      "137           6.4          3.1           5.5          1.8  virginica\n",
      "138           6.0          3.0           4.8          1.8  virginica\n",
      "139           6.9          3.1           5.4          2.1  virginica\n",
      "\n",
      "[85 rows x 5 columns]\n",
      "\n",
      "Correct answer:\n",
      "     sepal_length  sepal_width  petal_length  petal_width    species\n",
      "0             5.1          3.5           1.4          0.2     setosa\n",
      "1             4.9          3.0           1.4          0.2     setosa\n",
      "7             5.0          3.4           1.5          0.2     setosa\n",
      "8             4.4          2.9           1.4          0.2     setosa\n",
      "9             4.9          3.1           1.5          0.1     setosa\n",
      "..            ...          ...           ...          ...        ...\n",
      "135           7.7          3.0           6.1          2.3  virginica\n",
      "136           6.3          3.4           5.6          2.4  virginica\n",
      "137           6.4          3.1           5.5          1.8  virginica\n",
      "138           6.0          3.0           4.8          1.8  virginica\n",
      "139           6.9          3.1           5.4          2.1  virginica\n",
      "\n",
      "[85 rows x 5 columns]\n",
      "\n"
     ]
    }
   ],
   "source": [
    "# Using a copy of the original DataFrame, return a modified version of it where all the rows that contain null values are dropped.\n",
    "# Given parameter(s): copy_df (DataFrame)\n",
    "# Submission: response (DataFrame)\n",
    "\n",
    "copy_df = modified_df.copy()\n",
    "\n",
    "response = copy_df.dropna()\n",
    "assert_cleaning_1_1(response)"
   ],
   "metadata": {
    "collapsed": false,
    "pycharm": {
     "name": "#%%\n"
    }
   }
  },
  {
   "cell_type": "code",
   "execution_count": 31,
   "outputs": [
    {
     "name": "stdout",
     "output_type": "stream",
     "text": [
      "\n",
      "******************************\n",
      "***   Correct, good job!   ***\n",
      "******************************\n",
      "                \n",
      "Your response:\n",
      "     sepal_width    species\n",
      "0            3.5     setosa\n",
      "1            3.0     setosa\n",
      "2            3.2     setosa\n",
      "3            3.1     setosa\n",
      "4            3.6     setosa\n",
      "..           ...        ...\n",
      "145          3.0  virginica\n",
      "146          2.5  virginica\n",
      "147          3.0  virginica\n",
      "148          3.4  virginica\n",
      "149          3.0  virginica\n",
      "\n",
      "[150 rows x 2 columns]\n",
      "\n",
      "Correct answer:\n",
      "     sepal_width    species\n",
      "0            3.5     setosa\n",
      "1            3.0     setosa\n",
      "2            3.2     setosa\n",
      "3            3.1     setosa\n",
      "4            3.6     setosa\n",
      "..           ...        ...\n",
      "145          3.0  virginica\n",
      "146          2.5  virginica\n",
      "147          3.0  virginica\n",
      "148          3.4  virginica\n",
      "149          3.0  virginica\n",
      "\n",
      "[150 rows x 2 columns]\n",
      "\n"
     ]
    }
   ],
   "source": [
    "# Using a copy of the original DataFrame, return a modified version of it where all the columns that contain null values are dropped.\n",
    "# Given parameter(s): copy_df (DataFrame)\n",
    "# Submission: response (DataFrame)\n",
    "\n",
    "copy_df = modified_df.copy()\n",
    "\n",
    "response = copy_df.dropna(axis = 1)\n",
    "assert_cleaning_1_2(response)"
   ],
   "metadata": {
    "collapsed": false,
    "pycharm": {
     "name": "#%%\n"
    }
   }
  },
  {
   "cell_type": "code",
   "execution_count": 32,
   "outputs": [
    {
     "name": "stdout",
     "output_type": "stream",
     "text": [
      "\n",
      "******************************\n",
      "***   Correct, good job!   ***\n",
      "******************************\n",
      "                \n",
      "Your response:\n",
      "     sepal_length  sepal_width  petal_width    species\n",
      "0             5.1          3.5          0.2     setosa\n",
      "1             4.9          3.0          0.2     setosa\n",
      "2             NaN          3.2          0.2     setosa\n",
      "3             NaN          3.1          0.2     setosa\n",
      "4             NaN          3.6          0.2     setosa\n",
      "..            ...          ...          ...        ...\n",
      "145           6.7          3.0          NaN  virginica\n",
      "146           6.3          2.5          NaN  virginica\n",
      "147           6.5          3.0          NaN  virginica\n",
      "148           6.2          3.4          NaN  virginica\n",
      "149           5.9          3.0          NaN  virginica\n",
      "\n",
      "[150 rows x 4 columns]\n",
      "\n",
      "Correct answer:\n",
      "     sepal_length  sepal_width  petal_width    species\n",
      "0             5.1          3.5          0.2     setosa\n",
      "1             4.9          3.0          0.2     setosa\n",
      "2             NaN          3.2          0.2     setosa\n",
      "3             NaN          3.1          0.2     setosa\n",
      "4             NaN          3.6          0.2     setosa\n",
      "..            ...          ...          ...        ...\n",
      "145           6.7          3.0          NaN  virginica\n",
      "146           6.3          2.5          NaN  virginica\n",
      "147           6.5          3.0          NaN  virginica\n",
      "148           6.2          3.4          NaN  virginica\n",
      "149           5.9          3.0          NaN  virginica\n",
      "\n",
      "[150 rows x 4 columns]\n",
      "\n"
     ]
    }
   ],
   "source": [
    "# Using a copy of the original DataFrame, return a modified version of it where all the columns that have fewer than 120 non-null values are dropped.\n",
    "# Given parameter(s): copy_df (DataFrame)\n",
    "# Submission: response (DataFrame)\n",
    "\n",
    "copy_df = modified_df.copy()\n",
    "\n",
    "response = copy_df.dropna(axis = 1, thresh = 120)\n",
    "assert_cleaning_1_3(response)"
   ],
   "metadata": {
    "collapsed": false,
    "pycharm": {
     "name": "#%%\n"
    }
   }
  },
  {
   "cell_type": "code",
   "execution_count": 33,
   "outputs": [
    {
     "name": "stdout",
     "output_type": "stream",
     "text": [
      "\n",
      "******************************\n",
      "***   Correct, good job!   ***\n",
      "******************************\n",
      "                \n",
      "Your response:\n",
      "0      5.1\n",
      "1      4.9\n",
      "2      5.8\n",
      "3      5.8\n",
      "4      5.8\n",
      "      ... \n",
      "145    6.7\n",
      "146    6.3\n",
      "147    6.5\n",
      "148    6.2\n",
      "149    5.9\n",
      "Name: sepal_length, Length: 150, dtype: float64\n",
      "\n",
      "Correct answer:\n",
      "0      5.1\n",
      "1      4.9\n",
      "2      5.8\n",
      "3      5.8\n",
      "4      5.8\n",
      "      ... \n",
      "145    6.7\n",
      "146    6.3\n",
      "147    6.5\n",
      "148    6.2\n",
      "149    5.9\n",
      "Name: sepal_length, Length: 150, dtype: float64\n",
      "\n"
     ]
    }
   ],
   "source": [
    "# Using a copy of the original Series, return a modified version of it where the cells with None values are replaced with the median.\n",
    "# Given parameter(s): copy_s (Series)\n",
    "# Submission: response (Series)\n",
    "\n",
    "copy_s = modified_df['sepal_length'].copy()\n",
    "\n",
    "response = copy_s.fillna(s.median())\n",
    "assert_cleaning_2_1(response)"
   ],
   "metadata": {
    "collapsed": false,
    "pycharm": {
     "name": "#%%\n"
    }
   }
  },
  {
   "cell_type": "code",
   "execution_count": 34,
   "outputs": [
    {
     "name": "stdout",
     "output_type": "stream",
     "text": [
      "\n",
      "******************************\n",
      "***   Correct, good job!   ***\n",
      "******************************\n",
      "                \n",
      "Your response:\n",
      "     sepal_length  sepal_width  petal_length  petal_width    species\n",
      "0        5.100000          3.5           1.4     0.200000     setosa\n",
      "1        4.900000          3.0           1.4     0.200000     setosa\n",
      "2        5.843333          3.2           1.3     0.200000     setosa\n",
      "3        5.843333          3.1           1.5     0.200000     setosa\n",
      "4        5.843333          3.6           1.4     0.200000     setosa\n",
      "..            ...          ...           ...          ...        ...\n",
      "145      6.700000          3.0           5.2     5.843333  virginica\n",
      "146      6.300000          2.5           5.0     5.843333  virginica\n",
      "147      6.500000          3.0           5.2     5.843333  virginica\n",
      "148      6.200000          3.4           5.4     5.843333  virginica\n",
      "149      5.900000          3.0           5.1     5.843333  virginica\n",
      "\n",
      "[150 rows x 5 columns]\n",
      "\n",
      "Correct answer:\n",
      "     sepal_length  sepal_width  petal_length  petal_width    species\n",
      "0        5.100000          3.5           1.4     0.200000     setosa\n",
      "1        4.900000          3.0           1.4     0.200000     setosa\n",
      "2        5.843333          3.2           1.3     0.200000     setosa\n",
      "3        5.843333          3.1           1.5     0.200000     setosa\n",
      "4        5.843333          3.6           1.4     0.200000     setosa\n",
      "..            ...          ...           ...          ...        ...\n",
      "145      6.700000          3.0           5.2     5.843333  virginica\n",
      "146      6.300000          2.5           5.0     5.843333  virginica\n",
      "147      6.500000          3.0           5.2     5.843333  virginica\n",
      "148      6.200000          3.4           5.4     5.843333  virginica\n",
      "149      5.900000          3.0           5.1     5.843333  virginica\n",
      "\n",
      "[150 rows x 5 columns]\n",
      "\n"
     ]
    }
   ],
   "source": [
    "# Using a copy of the original DataFrame, return a modified version of it where the cells with None values are replaced with the median.\n",
    "# Given parameter(s): copy_df (DataFrame)\n",
    "# Submission: response (DataFrame)\n",
    "\n",
    "copy_df = modified_df.copy()\n",
    "\n",
    "response = copy_df.fillna(s.mean())\n",
    "assert_cleaning_2_2(response)"
   ],
   "metadata": {
    "collapsed": false,
    "pycharm": {
     "name": "#%%\n"
    }
   }
  },
  {
   "cell_type": "code",
   "execution_count": 35,
   "outputs": [
    {
     "name": "stdout",
     "output_type": "stream",
     "text": [
      "\n",
      "******************************\n",
      "***   Correct, good job!   ***\n",
      "******************************\n",
      "                \n",
      "Your response:\n",
      "0      3\n",
      "1      3\n",
      "2      3\n",
      "3      3\n",
      "4      3\n",
      "      ..\n",
      "145    3\n",
      "146    2\n",
      "147    3\n",
      "148    3\n",
      "149    3\n",
      "Name: sepal_width, Length: 150, dtype: int64\n",
      "\n",
      "Correct answer:\n",
      "0      3\n",
      "1      3\n",
      "2      3\n",
      "3      3\n",
      "4      3\n",
      "      ..\n",
      "145    3\n",
      "146    2\n",
      "147    3\n",
      "148    3\n",
      "149    3\n",
      "Name: sepal_width, Length: 150, dtype: int64\n",
      "\n"
     ]
    }
   ],
   "source": [
    "# Using a copy of the original Series, return a modified version of it where the cells are converted into type Int.\n",
    "# Given parameter(s): copy_s (Series)\n",
    "# Submission: response (Series)\n",
    "\n",
    "copy_s = modified_s.copy()\n",
    "\n",
    "response = copy_s.astype(int)\n",
    "assert_cleaning_3_1(response)"
   ],
   "metadata": {
    "collapsed": false,
    "pycharm": {
     "name": "#%%\n"
    }
   }
  },
  {
   "cell_type": "code",
   "execution_count": 36,
   "outputs": [
    {
     "name": "stdout",
     "output_type": "stream",
     "text": [
      "\n",
      "******************************\n",
      "***   Correct, good job!   ***\n",
      "******************************\n",
      "                \n",
      "Your response:\n",
      "0        3.5\n",
      "1      Three\n",
      "2        3.2\n",
      "3        3.1\n",
      "4        3.6\n",
      "       ...  \n",
      "145    Three\n",
      "146      2.5\n",
      "147    Three\n",
      "148      3.4\n",
      "149    Three\n",
      "Name: sepal_width, Length: 150, dtype: object\n",
      "\n",
      "Correct answer:\n",
      "0        3.5\n",
      "1      Three\n",
      "2        3.2\n",
      "3        3.1\n",
      "4        3.6\n",
      "       ...  \n",
      "145    Three\n",
      "146      2.5\n",
      "147    Three\n",
      "148      3.4\n",
      "149    Three\n",
      "Name: sepal_width, Length: 150, dtype: object\n",
      "\n"
     ]
    }
   ],
   "source": [
    "# Using a copy of the original Series, return a modified version of it where the cells with value 3.0 or 2.0 are replaced with 'Three' and 'Two' as strings, respectively.\n",
    "# Given parameter(s): copy_s (Series)\n",
    "# Submission: response (Series)\n",
    "\n",
    "copy_s = modified_s.copy()\n",
    "\n",
    "response = copy_s.replace([3.0, 2.0], ['Three', 'Two'])\n",
    "assert_cleaning_4_1(response)"
   ],
   "metadata": {
    "collapsed": false,
    "pycharm": {
     "name": "#%%\n"
    }
   }
  },
  {
   "cell_type": "markdown",
   "source": [
    "#### Filter, Sort, and Groupby"
   ],
   "metadata": {
    "collapsed": false,
    "pycharm": {
     "name": "#%% md\n"
    }
   }
  },
  {
   "cell_type": "code",
   "execution_count": 37,
   "outputs": [
    {
     "name": "stdout",
     "output_type": "stream",
     "text": [
      "\n",
      "******************************\n",
      "***   Correct, good job!   ***\n",
      "******************************\n",
      "                \n",
      "Your response:\n",
      "    sepal_length  sepal_width  petal_length  petal_width species\n",
      "0            5.1          3.5           1.4          0.2  setosa\n",
      "1            4.9          3.0           1.4          0.2  setosa\n",
      "2            4.7          3.2           1.3          0.2  setosa\n",
      "3            4.6          3.1           1.5          0.2  setosa\n",
      "4            5.0          3.6           1.4          0.2  setosa\n",
      "5            5.4          3.9           1.7          0.4  setosa\n",
      "6            4.6          3.4           1.4          0.3  setosa\n",
      "7            5.0          3.4           1.5          0.2  setosa\n",
      "8            4.4          2.9           1.4          0.2  setosa\n",
      "9            4.9          3.1           1.5          0.1  setosa\n",
      "10           5.4          3.7           1.5          0.2  setosa\n",
      "11           4.8          3.4           1.6          0.2  setosa\n",
      "12           4.8          3.0           1.4          0.1  setosa\n",
      "13           4.3          3.0           1.1          0.1  setosa\n",
      "14           5.8          4.0           1.2          0.2  setosa\n",
      "15           5.7          4.4           1.5          0.4  setosa\n",
      "16           5.4          3.9           1.3          0.4  setosa\n",
      "17           5.1          3.5           1.4          0.3  setosa\n",
      "18           5.7          3.8           1.7          0.3  setosa\n",
      "19           5.1          3.8           1.5          0.3  setosa\n",
      "20           5.4          3.4           1.7          0.2  setosa\n",
      "21           5.1          3.7           1.5          0.4  setosa\n",
      "22           4.6          3.6           1.0          0.2  setosa\n",
      "23           5.1          3.3           1.7          0.5  setosa\n",
      "24           4.8          3.4           1.9          0.2  setosa\n",
      "25           5.0          3.0           1.6          0.2  setosa\n",
      "26           5.0          3.4           1.6          0.4  setosa\n",
      "27           5.2          3.5           1.5          0.2  setosa\n",
      "28           5.2          3.4           1.4          0.2  setosa\n",
      "29           4.7          3.2           1.6          0.2  setosa\n",
      "30           4.8          3.1           1.6          0.2  setosa\n",
      "31           5.4          3.4           1.5          0.4  setosa\n",
      "32           5.2          4.1           1.5          0.1  setosa\n",
      "33           5.5          4.2           1.4          0.2  setosa\n",
      "34           4.9          3.1           1.5          0.2  setosa\n",
      "35           5.0          3.2           1.2          0.2  setosa\n",
      "36           5.5          3.5           1.3          0.2  setosa\n",
      "37           4.9          3.6           1.4          0.1  setosa\n",
      "38           4.4          3.0           1.3          0.2  setosa\n",
      "39           5.1          3.4           1.5          0.2  setosa\n",
      "40           5.0          3.5           1.3          0.3  setosa\n",
      "41           4.5          2.3           1.3          0.3  setosa\n",
      "42           4.4          3.2           1.3          0.2  setosa\n",
      "43           5.0          3.5           1.6          0.6  setosa\n",
      "44           5.1          3.8           1.9          0.4  setosa\n",
      "45           4.8          3.0           1.4          0.3  setosa\n",
      "46           5.1          3.8           1.6          0.2  setosa\n",
      "47           4.6          3.2           1.4          0.2  setosa\n",
      "48           5.3          3.7           1.5          0.2  setosa\n",
      "49           5.0          3.3           1.4          0.2  setosa\n",
      "\n",
      "Correct answer:\n",
      "    sepal_length  sepal_width  petal_length  petal_width species\n",
      "0            5.1          3.5           1.4          0.2  setosa\n",
      "1            4.9          3.0           1.4          0.2  setosa\n",
      "2            4.7          3.2           1.3          0.2  setosa\n",
      "3            4.6          3.1           1.5          0.2  setosa\n",
      "4            5.0          3.6           1.4          0.2  setosa\n",
      "5            5.4          3.9           1.7          0.4  setosa\n",
      "6            4.6          3.4           1.4          0.3  setosa\n",
      "7            5.0          3.4           1.5          0.2  setosa\n",
      "8            4.4          2.9           1.4          0.2  setosa\n",
      "9            4.9          3.1           1.5          0.1  setosa\n",
      "10           5.4          3.7           1.5          0.2  setosa\n",
      "11           4.8          3.4           1.6          0.2  setosa\n",
      "12           4.8          3.0           1.4          0.1  setosa\n",
      "13           4.3          3.0           1.1          0.1  setosa\n",
      "14           5.8          4.0           1.2          0.2  setosa\n",
      "15           5.7          4.4           1.5          0.4  setosa\n",
      "16           5.4          3.9           1.3          0.4  setosa\n",
      "17           5.1          3.5           1.4          0.3  setosa\n",
      "18           5.7          3.8           1.7          0.3  setosa\n",
      "19           5.1          3.8           1.5          0.3  setosa\n",
      "20           5.4          3.4           1.7          0.2  setosa\n",
      "21           5.1          3.7           1.5          0.4  setosa\n",
      "22           4.6          3.6           1.0          0.2  setosa\n",
      "23           5.1          3.3           1.7          0.5  setosa\n",
      "24           4.8          3.4           1.9          0.2  setosa\n",
      "25           5.0          3.0           1.6          0.2  setosa\n",
      "26           5.0          3.4           1.6          0.4  setosa\n",
      "27           5.2          3.5           1.5          0.2  setosa\n",
      "28           5.2          3.4           1.4          0.2  setosa\n",
      "29           4.7          3.2           1.6          0.2  setosa\n",
      "30           4.8          3.1           1.6          0.2  setosa\n",
      "31           5.4          3.4           1.5          0.4  setosa\n",
      "32           5.2          4.1           1.5          0.1  setosa\n",
      "33           5.5          4.2           1.4          0.2  setosa\n",
      "34           4.9          3.1           1.5          0.2  setosa\n",
      "35           5.0          3.2           1.2          0.2  setosa\n",
      "36           5.5          3.5           1.3          0.2  setosa\n",
      "37           4.9          3.6           1.4          0.1  setosa\n",
      "38           4.4          3.0           1.3          0.2  setosa\n",
      "39           5.1          3.4           1.5          0.2  setosa\n",
      "40           5.0          3.5           1.3          0.3  setosa\n",
      "41           4.5          2.3           1.3          0.3  setosa\n",
      "42           4.4          3.2           1.3          0.2  setosa\n",
      "43           5.0          3.5           1.6          0.6  setosa\n",
      "44           5.1          3.8           1.9          0.4  setosa\n",
      "45           4.8          3.0           1.4          0.3  setosa\n",
      "46           5.1          3.8           1.6          0.2  setosa\n",
      "47           4.6          3.2           1.4          0.2  setosa\n",
      "48           5.3          3.7           1.5          0.2  setosa\n",
      "49           5.0          3.3           1.4          0.2  setosa\n",
      "\n"
     ]
    }
   ],
   "source": [
    "# Return a new DataFrame object with rows that have the petal_width value less than 1.\n",
    "# Given parameter(s): df (DataFrame)\n",
    "# Submission: response (DataFrame)\n",
    "\n",
    "df\n",
    "\n",
    "response = df[(df['petal_width'] < 1)]\n",
    "assert_filter_1_1(response)"
   ],
   "metadata": {
    "collapsed": false,
    "pycharm": {
     "name": "#%%\n"
    }
   }
  },
  {
   "cell_type": "code",
   "execution_count": 38,
   "outputs": [
    {
     "name": "stdout",
     "output_type": "stream",
     "text": [
      "\n",
      "******************************\n",
      "***   Correct, good job!   ***\n",
      "******************************\n",
      "                \n",
      "Your response:\n",
      "    sepal_length  sepal_width  petal_length  petal_width species\n",
      "43           5.0          3.5           1.6          0.6  setosa\n",
      "\n",
      "Correct answer:\n",
      "    sepal_length  sepal_width  petal_length  petal_width species\n",
      "43           5.0          3.5           1.6          0.6  setosa\n",
      "\n"
     ]
    }
   ],
   "source": [
    "# Return a new DataFrame object with rows that have the petal_width value less than 1 but greater than 0.5.\n",
    "# Given parameter(s): df (DataFrame)\n",
    "# Submission: response (DataFrame)\n",
    "\n",
    "df\n",
    "\n",
    "response = df[(df['petal_width'] > 0.5) & (df['petal_width'] < 1)]\n",
    "assert_filter_1_2(response)\n"
   ],
   "metadata": {
    "collapsed": false,
    "pycharm": {
     "name": "#%%\n"
    }
   }
  },
  {
   "cell_type": "code",
   "execution_count": 39,
   "outputs": [
    {
     "name": "stdout",
     "output_type": "stream",
     "text": [
      "\n",
      "******************************\n",
      "***   Correct, good job!   ***\n",
      "******************************\n",
      "                \n",
      "Your response:\n",
      "     sepal_length  sepal_width  petal_length  petal_width    species\n",
      "22            4.6          3.6           1.0          0.2     setosa\n",
      "13            4.3          3.0           1.1          0.1     setosa\n",
      "14            5.8          4.0           1.2          0.2     setosa\n",
      "35            5.0          3.2           1.2          0.2     setosa\n",
      "36            5.5          3.5           1.3          0.2     setosa\n",
      "..            ...          ...           ...          ...        ...\n",
      "131           7.9          3.8           6.4          2.0  virginica\n",
      "105           7.6          3.0           6.6          2.1  virginica\n",
      "117           7.7          3.8           6.7          2.2  virginica\n",
      "122           7.7          2.8           6.7          2.0  virginica\n",
      "118           7.7          2.6           6.9          2.3  virginica\n",
      "\n",
      "[150 rows x 5 columns]\n",
      "\n",
      "Correct answer:\n",
      "     sepal_length  sepal_width  petal_length  petal_width    species\n",
      "22            4.6          3.6           1.0          0.2     setosa\n",
      "13            4.3          3.0           1.1          0.1     setosa\n",
      "14            5.8          4.0           1.2          0.2     setosa\n",
      "35            5.0          3.2           1.2          0.2     setosa\n",
      "36            5.5          3.5           1.3          0.2     setosa\n",
      "..            ...          ...           ...          ...        ...\n",
      "131           7.9          3.8           6.4          2.0  virginica\n",
      "105           7.6          3.0           6.6          2.1  virginica\n",
      "117           7.7          3.8           6.7          2.2  virginica\n",
      "122           7.7          2.8           6.7          2.0  virginica\n",
      "118           7.7          2.6           6.9          2.3  virginica\n",
      "\n",
      "[150 rows x 5 columns]\n",
      "\n"
     ]
    }
   ],
   "source": [
    "# Using a copy of the original DataFrame, return a modified version of it where the rows are sorted by the petal_length values in ascending order.\n",
    "# Given parameter(s): copy_df (DataFrame)\n",
    "# Submission: response (DataFrame)\n",
    "\n",
    "copy_df = df.copy()\n",
    "\n",
    "response = copy_df.sort_values('petal_length')\n",
    "assert_sort_1_1(response)"
   ],
   "metadata": {
    "collapsed": false,
    "pycharm": {
     "name": "#%%\n"
    }
   }
  },
  {
   "cell_type": "code",
   "execution_count": 40,
   "outputs": [
    {
     "name": "stdout",
     "output_type": "stream",
     "text": [
      "\n",
      "******************************\n",
      "***   Correct, good job!   ***\n",
      "******************************\n",
      "                \n",
      "Your response:\n",
      "     sepal_length  sepal_width  petal_length  petal_width    species\n",
      "118           7.7          2.6           6.9          2.3  virginica\n",
      "122           7.7          2.8           6.7          2.0  virginica\n",
      "117           7.7          3.8           6.7          2.2  virginica\n",
      "105           7.6          3.0           6.6          2.1  virginica\n",
      "131           7.9          3.8           6.4          2.0  virginica\n",
      "..            ...          ...           ...          ...        ...\n",
      "16            5.4          3.9           1.3          0.4     setosa\n",
      "35            5.0          3.2           1.2          0.2     setosa\n",
      "14            5.8          4.0           1.2          0.2     setosa\n",
      "13            4.3          3.0           1.1          0.1     setosa\n",
      "22            4.6          3.6           1.0          0.2     setosa\n",
      "\n",
      "[150 rows x 5 columns]\n",
      "\n",
      "Correct answer:\n",
      "     sepal_length  sepal_width  petal_length  petal_width    species\n",
      "118           7.7          2.6           6.9          2.3  virginica\n",
      "122           7.7          2.8           6.7          2.0  virginica\n",
      "117           7.7          3.8           6.7          2.2  virginica\n",
      "105           7.6          3.0           6.6          2.1  virginica\n",
      "131           7.9          3.8           6.4          2.0  virginica\n",
      "..            ...          ...           ...          ...        ...\n",
      "16            5.4          3.9           1.3          0.4     setosa\n",
      "35            5.0          3.2           1.2          0.2     setosa\n",
      "14            5.8          4.0           1.2          0.2     setosa\n",
      "13            4.3          3.0           1.1          0.1     setosa\n",
      "22            4.6          3.6           1.0          0.2     setosa\n",
      "\n",
      "[150 rows x 5 columns]\n",
      "\n"
     ]
    }
   ],
   "source": [
    "# Using a copy of the original DataFrame, return a modified version of it where the rows are sorted by the petal_length values in descending order.\n",
    "# Given parameter(s): copy_df (DataFrame)\n",
    "# Submission: response (DataFrame)\n",
    "\n",
    "copy_df = df.copy()\n",
    "\n",
    "response = copy_df.sort_values('petal_length', ascending = False)\n",
    "assert_sort_1_2(response)"
   ],
   "metadata": {
    "collapsed": false,
    "pycharm": {
     "name": "#%%\n"
    }
   }
  },
  {
   "cell_type": "code",
   "execution_count": 41,
   "outputs": [
    {
     "name": "stdout",
     "output_type": "stream",
     "text": [
      "\n",
      "******************************\n",
      "***   Correct, good job!   ***\n",
      "******************************\n",
      "                \n",
      "Your response:\n",
      "     sepal_length  sepal_width  petal_length  petal_width    species\n",
      "22            4.6          3.6           1.0          0.2     setosa\n",
      "13            4.3          3.0           1.1          0.1     setosa\n",
      "14            5.8          4.0           1.2          0.2     setosa\n",
      "35            5.0          3.2           1.2          0.2     setosa\n",
      "16            5.4          3.9           1.3          0.4     setosa\n",
      "..            ...          ...           ...          ...        ...\n",
      "131           7.9          3.8           6.4          2.0  virginica\n",
      "105           7.6          3.0           6.6          2.1  virginica\n",
      "117           7.7          3.8           6.7          2.2  virginica\n",
      "122           7.7          2.8           6.7          2.0  virginica\n",
      "118           7.7          2.6           6.9          2.3  virginica\n",
      "\n",
      "[150 rows x 5 columns]\n",
      "\n",
      "Correct answer:\n",
      "     sepal_length  sepal_width  petal_length  petal_width    species\n",
      "22            4.6          3.6           1.0          0.2     setosa\n",
      "13            4.3          3.0           1.1          0.1     setosa\n",
      "14            5.8          4.0           1.2          0.2     setosa\n",
      "35            5.0          3.2           1.2          0.2     setosa\n",
      "16            5.4          3.9           1.3          0.4     setosa\n",
      "..            ...          ...           ...          ...        ...\n",
      "131           7.9          3.8           6.4          2.0  virginica\n",
      "105           7.6          3.0           6.6          2.1  virginica\n",
      "117           7.7          3.8           6.7          2.2  virginica\n",
      "122           7.7          2.8           6.7          2.0  virginica\n",
      "118           7.7          2.6           6.9          2.3  virginica\n",
      "\n",
      "[150 rows x 5 columns]\n",
      "\n"
     ]
    }
   ],
   "source": [
    "# Using a copy of the original DataFrame, return a modified version of it where the rows are sorted by the petal_length in ascending order, then by the petal_width in descending order.\n",
    "# Given parameter(s): copy_df (DataFrame)\n",
    "# Submission: response (DataFrame)\n",
    "\n",
    "copy_df = df.copy()\n",
    "\n",
    "response = copy_df.sort_values(['petal_length', 'petal_width'], ascending = [True, False])\n",
    "assert_sort_1_3(response)"
   ],
   "metadata": {
    "collapsed": false,
    "pycharm": {
     "name": "#%%\n"
    }
   }
  },
  {
   "cell_type": "code",
   "execution_count": 42,
   "outputs": [
    {
     "name": "stdout",
     "output_type": "stream",
     "text": [
      "\n",
      "******************************\n",
      "***   Correct, good job!   ***\n",
      "******************************\n",
      "                \n",
      "Your response:\n",
      "             sepal_length  sepal_width  petal_length\n",
      "petal_width                                         \n",
      "0.1              4.820000     3.360000      1.380000\n",
      "0.2              4.972414     3.379310      1.444828\n",
      "0.3              4.971429     3.328571      1.428571\n",
      "0.4              5.300000     3.785714      1.571429\n",
      "0.5              5.100000     3.300000      1.700000\n",
      "0.6              5.000000     3.500000      1.600000\n",
      "1.0              5.414286     2.371429      3.628571\n",
      "1.1              5.400000     2.466667      3.566667\n",
      "1.2              5.780000     2.740000      4.240000\n",
      "1.3              5.884615     2.746154      4.176923\n",
      "1.4              6.325000     2.912500      4.637500\n",
      "1.5              6.183333     2.816667      4.658333\n",
      "1.6              6.375000     3.100000      5.025000\n",
      "1.7              5.800000     2.750000      4.750000\n",
      "1.8              6.400000     2.941667      5.333333\n",
      "1.9              6.340000     2.680000      5.320000\n",
      "2.0              6.650000     3.016667      5.550000\n",
      "2.1              6.916667     3.033333      5.783333\n",
      "2.2              6.866667     3.200000      6.033333\n",
      "2.3              6.912500     3.087500      5.700000\n",
      "2.4              6.266667     3.100000      5.433333\n",
      "2.5              6.733333     3.400000      5.933333\n",
      "\n",
      "Correct answer:\n",
      "             sepal_length  sepal_width  petal_length\n",
      "petal_width                                         \n",
      "0.1              4.820000     3.360000      1.380000\n",
      "0.2              4.972414     3.379310      1.444828\n",
      "0.3              4.971429     3.328571      1.428571\n",
      "0.4              5.300000     3.785714      1.571429\n",
      "0.5              5.100000     3.300000      1.700000\n",
      "0.6              5.000000     3.500000      1.600000\n",
      "1.0              5.414286     2.371429      3.628571\n",
      "1.1              5.400000     2.466667      3.566667\n",
      "1.2              5.780000     2.740000      4.240000\n",
      "1.3              5.884615     2.746154      4.176923\n",
      "1.4              6.325000     2.912500      4.637500\n",
      "1.5              6.183333     2.816667      4.658333\n",
      "1.6              6.375000     3.100000      5.025000\n",
      "1.7              5.800000     2.750000      4.750000\n",
      "1.8              6.400000     2.941667      5.333333\n",
      "1.9              6.340000     2.680000      5.320000\n",
      "2.0              6.650000     3.016667      5.550000\n",
      "2.1              6.916667     3.033333      5.783333\n",
      "2.2              6.866667     3.200000      6.033333\n",
      "2.3              6.912500     3.087500      5.700000\n",
      "2.4              6.266667     3.100000      5.433333\n",
      "2.5              6.733333     3.400000      5.933333\n",
      "\n"
     ]
    }
   ],
   "source": [
    "# Using a copy of the original DataFrame, find the average across all columns for every unique 'petal_width' group.\n",
    "# Given parameter(s): copy_df (DataFrame)\n",
    "# Submission: response (DataFrame)\n",
    "# Hint: You can use groupby() and mean().\n",
    "\n",
    "copy_df = df.copy()\n",
    "\n",
    "response = copy_df.groupby('petal_width').mean()\n",
    "assert_groupby_1_1(response)"
   ],
   "metadata": {
    "collapsed": false,
    "pycharm": {
     "name": "#%%\n"
    }
   }
  },
  {
   "cell_type": "code",
   "execution_count": 43,
   "outputs": [
    {
     "name": "stdout",
     "output_type": "stream",
     "text": [
      "\n",
      "******************************\n",
      "***   Correct, good job!   ***\n",
      "******************************\n",
      "                \n",
      "Your response:\n",
      "                          sepal_length  sepal_width    species\n",
      "petal_width petal_length                                      \n",
      "0.1         1.1                    4.3          3.0     setosa\n",
      "            1.4                    4.9          3.6     setosa\n",
      "            1.5                    5.2          4.1     setosa\n",
      "0.2         1.0                    4.6          3.6     setosa\n",
      "            1.2                    5.8          4.0     setosa\n",
      "...                                ...          ...        ...\n",
      "2.4         5.1                    5.8          2.8  virginica\n",
      "            5.6                    6.7          3.4  virginica\n",
      "2.5         5.7                    6.7          3.3  virginica\n",
      "            6.0                    6.3          3.3  virginica\n",
      "            6.1                    7.2          3.6  virginica\n",
      "\n",
      "[102 rows x 3 columns]\n",
      "\n",
      "Correct answer:\n",
      "                          sepal_length  sepal_width    species\n",
      "petal_width petal_length                                      \n",
      "0.1         1.1                    4.3          3.0     setosa\n",
      "            1.4                    4.9          3.6     setosa\n",
      "            1.5                    5.2          4.1     setosa\n",
      "0.2         1.0                    4.6          3.6     setosa\n",
      "            1.2                    5.8          4.0     setosa\n",
      "...                                ...          ...        ...\n",
      "2.4         5.1                    5.8          2.8  virginica\n",
      "            5.6                    6.7          3.4  virginica\n",
      "2.5         5.7                    6.7          3.3  virginica\n",
      "            6.0                    6.3          3.3  virginica\n",
      "            6.1                    7.2          3.6  virginica\n",
      "\n",
      "[102 rows x 3 columns]\n",
      "\n"
     ]
    }
   ],
   "source": [
    "# Using a copy of the original DataFrame, find the max across all columns for every unique 'petal_width' group and every unique 'petal_length' group.\n",
    "# Given parameter(s): copy_df (DataFrame)\n",
    "# Submission: response (DataFrame)\n",
    "# Hint: You can use groupby() and max().\n",
    "\n",
    "copy_df = df.copy()\n",
    "\n",
    "response = copy_df.groupby(['petal_width', 'petal_length']).max()\n",
    "assert_groupby_1_2(response)\n"
   ],
   "metadata": {
    "collapsed": false,
    "pycharm": {
     "name": "#%%\n"
    }
   }
  },
  {
   "cell_type": "code",
   "execution_count": 44,
   "outputs": [
    {
     "name": "stdout",
     "output_type": "stream",
     "text": [
      "\n",
      "******************************\n",
      "***   Correct, good job!   ***\n",
      "******************************\n",
      "                \n",
      "Your response:\n",
      "sepal_length    5.843333\n",
      "sepal_width     3.057333\n",
      "petal_length    3.758000\n",
      "petal_width     1.199333\n",
      "dtype: float64\n",
      "\n",
      "Correct answer:\n",
      "sepal_length    5.843333\n",
      "sepal_width     3.057333\n",
      "petal_length    3.758000\n",
      "petal_width     1.199333\n",
      "dtype: float64\n",
      "\n"
     ]
    }
   ],
   "source": [
    "# Using a copy of the original DataFrame, return a new DataFrame with the np.mean() function applied across each column.\n",
    "# Given parameter(s): copy_df (DataFrame)\n",
    "# Submission: response (DataFrame)\n",
    "\n",
    "copy_df = df.copy()\n",
    "\n",
    "response = copy_df.iloc[:, :-1].apply(np.mean)\n",
    "assert_apply_1_1(response)"
   ],
   "metadata": {
    "collapsed": false,
    "pycharm": {
     "name": "#%%\n"
    }
   }
  },
  {
   "cell_type": "markdown",
   "source": [
    "#### Joining Multiple DataFrames\n",
    "##### Please use the following dataframes to respond below."
   ],
   "metadata": {
    "collapsed": false,
    "pycharm": {
     "name": "#%% md\n"
    }
   }
  },
  {
   "cell_type": "code",
   "execution_count": 45,
   "outputs": [],
   "source": [
    "left_df = db.left_half_dataframe\n",
    "right_df = db.right_half_dataframe\n",
    "top_df = db.top_half_dataframe\n",
    "bottom_df = db.bottom_half_dataframe\n"
   ],
   "metadata": {
    "collapsed": false,
    "pycharm": {
     "name": "#%%\n"
    }
   }
  },
  {
   "cell_type": "code",
   "execution_count": 46,
   "outputs": [
    {
     "name": "stdout",
     "output_type": "stream",
     "text": [
      "\n",
      "******************************\n",
      "***   Correct, good job!   ***\n",
      "******************************\n",
      "                \n",
      "Your response:\n",
      "     sepal_length  sepal_width  petal_length  petal_width    species\n",
      "0             5.1          3.5           1.4          0.2     setosa\n",
      "1             4.9          3.0           1.4          0.2     setosa\n",
      "2             4.7          3.2           1.3          0.2     setosa\n",
      "3             4.6          3.1           1.5          0.2     setosa\n",
      "4             5.0          3.6           1.4          0.2     setosa\n",
      "..            ...          ...           ...          ...        ...\n",
      "145           6.7          3.0           5.2          2.3  virginica\n",
      "146           6.3          2.5           5.0          1.9  virginica\n",
      "147           6.5          3.0           5.2          2.0  virginica\n",
      "148           6.2          3.4           5.4          2.3  virginica\n",
      "149           5.9          3.0           5.1          1.8  virginica\n",
      "\n",
      "[150 rows x 5 columns]\n",
      "\n",
      "Correct answer:\n",
      "     sepal_length  sepal_width  petal_length  petal_width    species\n",
      "0             5.1          3.5           1.4          0.2     setosa\n",
      "1             4.9          3.0           1.4          0.2     setosa\n",
      "2             4.7          3.2           1.3          0.2     setosa\n",
      "3             4.6          3.1           1.5          0.2     setosa\n",
      "4             5.0          3.6           1.4          0.2     setosa\n",
      "..            ...          ...           ...          ...        ...\n",
      "145           6.7          3.0           5.2          2.3  virginica\n",
      "146           6.3          2.5           5.0          1.9  virginica\n",
      "147           6.5          3.0           5.2          2.0  virginica\n",
      "148           6.2          3.4           5.4          2.3  virginica\n",
      "149           5.9          3.0           5.1          1.8  virginica\n",
      "\n",
      "[150 rows x 5 columns]\n",
      "\n"
     ]
    },
    {
     "data": {
      "text/plain": "     sepal_length  sepal_width  petal_length  petal_width    species\n0             5.1          3.5           1.4          0.2     setosa\n1             4.9          3.0           1.4          0.2     setosa\n2             4.7          3.2           1.3          0.2     setosa\n3             4.6          3.1           1.5          0.2     setosa\n4             5.0          3.6           1.4          0.2     setosa\n..            ...          ...           ...          ...        ...\n145           6.7          3.0           5.2          2.3  virginica\n146           6.3          2.5           5.0          1.9  virginica\n147           6.5          3.0           5.2          2.0  virginica\n148           6.2          3.4           5.4          2.3  virginica\n149           5.9          3.0           5.1          1.8  virginica\n\n[150 rows x 5 columns]",
      "text/html": "<div>\n<style scoped>\n    .dataframe tbody tr th:only-of-type {\n        vertical-align: middle;\n    }\n\n    .dataframe tbody tr th {\n        vertical-align: top;\n    }\n\n    .dataframe thead th {\n        text-align: right;\n    }\n</style>\n<table border=\"1\" class=\"dataframe\">\n  <thead>\n    <tr style=\"text-align: right;\">\n      <th></th>\n      <th>sepal_length</th>\n      <th>sepal_width</th>\n      <th>petal_length</th>\n      <th>petal_width</th>\n      <th>species</th>\n    </tr>\n  </thead>\n  <tbody>\n    <tr>\n      <th>0</th>\n      <td>5.1</td>\n      <td>3.5</td>\n      <td>1.4</td>\n      <td>0.2</td>\n      <td>setosa</td>\n    </tr>\n    <tr>\n      <th>1</th>\n      <td>4.9</td>\n      <td>3.0</td>\n      <td>1.4</td>\n      <td>0.2</td>\n      <td>setosa</td>\n    </tr>\n    <tr>\n      <th>2</th>\n      <td>4.7</td>\n      <td>3.2</td>\n      <td>1.3</td>\n      <td>0.2</td>\n      <td>setosa</td>\n    </tr>\n    <tr>\n      <th>3</th>\n      <td>4.6</td>\n      <td>3.1</td>\n      <td>1.5</td>\n      <td>0.2</td>\n      <td>setosa</td>\n    </tr>\n    <tr>\n      <th>4</th>\n      <td>5.0</td>\n      <td>3.6</td>\n      <td>1.4</td>\n      <td>0.2</td>\n      <td>setosa</td>\n    </tr>\n    <tr>\n      <th>...</th>\n      <td>...</td>\n      <td>...</td>\n      <td>...</td>\n      <td>...</td>\n      <td>...</td>\n    </tr>\n    <tr>\n      <th>145</th>\n      <td>6.7</td>\n      <td>3.0</td>\n      <td>5.2</td>\n      <td>2.3</td>\n      <td>virginica</td>\n    </tr>\n    <tr>\n      <th>146</th>\n      <td>6.3</td>\n      <td>2.5</td>\n      <td>5.0</td>\n      <td>1.9</td>\n      <td>virginica</td>\n    </tr>\n    <tr>\n      <th>147</th>\n      <td>6.5</td>\n      <td>3.0</td>\n      <td>5.2</td>\n      <td>2.0</td>\n      <td>virginica</td>\n    </tr>\n    <tr>\n      <th>148</th>\n      <td>6.2</td>\n      <td>3.4</td>\n      <td>5.4</td>\n      <td>2.3</td>\n      <td>virginica</td>\n    </tr>\n    <tr>\n      <th>149</th>\n      <td>5.9</td>\n      <td>3.0</td>\n      <td>5.1</td>\n      <td>1.8</td>\n      <td>virginica</td>\n    </tr>\n  </tbody>\n</table>\n<p>150 rows × 5 columns</p>\n</div>"
     },
     "execution_count": 46,
     "metadata": {},
     "output_type": "execute_result"
    }
   ],
   "source": [
    "# Add the rows bottom_df to the end of top_df.\n",
    "# Given parameter(s): top_df (DataFrame) / bottom_df (DataFrame)\n",
    "# Submission: response (DataFrame)\n",
    "top_df\n",
    "bottom_df\n",
    "\n",
    "response = top_df.append(bottom_df)\n",
    "assert_joining_1_1(response)\n",
    "response"
   ],
   "metadata": {
    "collapsed": false,
    "pycharm": {
     "name": "#%%\n"
    }
   }
  },
  {
   "cell_type": "code",
   "execution_count": 47,
   "outputs": [
    {
     "name": "stdout",
     "output_type": "stream",
     "text": [
      "\n",
      "******************************\n",
      "***   Correct, good job!   ***\n",
      "******************************\n",
      "                \n",
      "Your response:\n",
      "    sepal_length  sepal_width  petal_length  petal_width     species\n",
      "75           6.6          3.0           4.4          1.4  versicolor\n",
      "76           6.8          2.8           4.8          1.4  versicolor\n",
      "77           6.7          3.0           5.0          1.7  versicolor\n",
      "78           6.0          2.9           4.5          1.5  versicolor\n",
      "79           5.7          2.6           3.5          1.0  versicolor\n",
      "..           ...          ...           ...          ...         ...\n",
      "70           5.9          3.2           4.8          1.8  versicolor\n",
      "71           6.1          2.8           4.0          1.3  versicolor\n",
      "72           6.3          2.5           4.9          1.5  versicolor\n",
      "73           6.1          2.8           4.7          1.2  versicolor\n",
      "74           6.4          2.9           4.3          1.3  versicolor\n",
      "\n",
      "[150 rows x 5 columns]\n",
      "\n",
      "Correct answer:\n",
      "    sepal_length  sepal_width  petal_length  petal_width     species\n",
      "75           6.6          3.0           4.4          1.4  versicolor\n",
      "76           6.8          2.8           4.8          1.4  versicolor\n",
      "77           6.7          3.0           5.0          1.7  versicolor\n",
      "78           6.0          2.9           4.5          1.5  versicolor\n",
      "79           5.7          2.6           3.5          1.0  versicolor\n",
      "..           ...          ...           ...          ...         ...\n",
      "70           5.9          3.2           4.8          1.8  versicolor\n",
      "71           6.1          2.8           4.0          1.3  versicolor\n",
      "72           6.3          2.5           4.9          1.5  versicolor\n",
      "73           6.1          2.8           4.7          1.2  versicolor\n",
      "74           6.4          2.9           4.3          1.3  versicolor\n",
      "\n",
      "[150 rows x 5 columns]\n",
      "\n"
     ]
    }
   ],
   "source": [
    "# Add the rows top_df to the end of bottom_df.\n",
    "# Given parameter(s): top_df (DataFrame) / bottom_df (DataFrame)\n",
    "# Submission: response (DataFrame)\n",
    "top_df\n",
    "bottom_df\n",
    "\n",
    "response = bottom_df.append(top_df)\n",
    "assert_joining_1_2(response)"
   ],
   "metadata": {
    "collapsed": false,
    "pycharm": {
     "name": "#%%\n"
    }
   }
  },
  {
   "cell_type": "code",
   "execution_count": 48,
   "outputs": [
    {
     "name": "stdout",
     "output_type": "stream",
     "text": [
      "\n",
      "******************************\n",
      "***   Correct, good job!   ***\n",
      "******************************\n",
      "                \n",
      "Your response:\n",
      "     sepal_length  sepal_width  petal_length  petal_width    species\n",
      "0             5.1          3.5           1.4          0.2     setosa\n",
      "1             4.9          3.0           1.4          0.2     setosa\n",
      "2             4.7          3.2           1.3          0.2     setosa\n",
      "3             4.6          3.1           1.5          0.2     setosa\n",
      "4             5.0          3.6           1.4          0.2     setosa\n",
      "..            ...          ...           ...          ...        ...\n",
      "145           6.7          3.0           5.2          2.3  virginica\n",
      "146           6.3          2.5           5.0          1.9  virginica\n",
      "147           6.5          3.0           5.2          2.0  virginica\n",
      "148           6.2          3.4           5.4          2.3  virginica\n",
      "149           5.9          3.0           5.1          1.8  virginica\n",
      "\n",
      "[150 rows x 5 columns]\n",
      "\n",
      "Correct answer:\n",
      "     sepal_length  sepal_width  petal_length  petal_width    species\n",
      "0             5.1          3.5           1.4          0.2     setosa\n",
      "1             4.9          3.0           1.4          0.2     setosa\n",
      "2             4.7          3.2           1.3          0.2     setosa\n",
      "3             4.6          3.1           1.5          0.2     setosa\n",
      "4             5.0          3.6           1.4          0.2     setosa\n",
      "..            ...          ...           ...          ...        ...\n",
      "145           6.7          3.0           5.2          2.3  virginica\n",
      "146           6.3          2.5           5.0          1.9  virginica\n",
      "147           6.5          3.0           5.2          2.0  virginica\n",
      "148           6.2          3.4           5.4          2.3  virginica\n",
      "149           5.9          3.0           5.1          1.8  virginica\n",
      "\n",
      "[150 rows x 5 columns]\n",
      "\n"
     ]
    }
   ],
   "source": [
    "# Add the columns right_df to the right of left_df.\n",
    "# Given parameter(s): right_df (DataFrame) / left_df (DataFrame)\n",
    "# Submission: response (DataFrame)\n",
    "\n",
    "right_df\n",
    "left_df\n",
    "\n",
    "response = pd.concat([left_df, right_df], axis = 1)\n",
    "assert_joining_2_1(response)"
   ],
   "metadata": {
    "collapsed": false,
    "pycharm": {
     "name": "#%%\n"
    }
   }
  },
  {
   "cell_type": "code",
   "execution_count": 49,
   "outputs": [
    {
     "name": "stdout",
     "output_type": "stream",
     "text": [
      "\n",
      "******************************\n",
      "***   Correct, good job!   ***\n",
      "******************************\n",
      "                \n",
      "Your response:\n",
      "     petal_length  petal_width    species  sepal_length  sepal_width\n",
      "0             1.4          0.2     setosa           5.1          3.5\n",
      "1             1.4          0.2     setosa           4.9          3.0\n",
      "2             1.3          0.2     setosa           4.7          3.2\n",
      "3             1.5          0.2     setosa           4.6          3.1\n",
      "4             1.4          0.2     setosa           5.0          3.6\n",
      "..            ...          ...        ...           ...          ...\n",
      "145           5.2          2.3  virginica           6.7          3.0\n",
      "146           5.0          1.9  virginica           6.3          2.5\n",
      "147           5.2          2.0  virginica           6.5          3.0\n",
      "148           5.4          2.3  virginica           6.2          3.4\n",
      "149           5.1          1.8  virginica           5.9          3.0\n",
      "\n",
      "[150 rows x 5 columns]\n",
      "\n",
      "Correct answer:\n",
      "     petal_length  petal_width    species  sepal_length  sepal_width\n",
      "0             1.4          0.2     setosa           5.1          3.5\n",
      "1             1.4          0.2     setosa           4.9          3.0\n",
      "2             1.3          0.2     setosa           4.7          3.2\n",
      "3             1.5          0.2     setosa           4.6          3.1\n",
      "4             1.4          0.2     setosa           5.0          3.6\n",
      "..            ...          ...        ...           ...          ...\n",
      "145           5.2          2.3  virginica           6.7          3.0\n",
      "146           5.0          1.9  virginica           6.3          2.5\n",
      "147           5.2          2.0  virginica           6.5          3.0\n",
      "148           5.4          2.3  virginica           6.2          3.4\n",
      "149           5.1          1.8  virginica           5.9          3.0\n",
      "\n",
      "[150 rows x 5 columns]\n",
      "\n"
     ]
    }
   ],
   "source": [
    "# Add the columns left_df to the right of right_df.\n",
    "# Given parameter(s): right_df (DataFrame) / left_df (DataFrame)\n",
    "# Submission: response (DataFrame)\n",
    "right_df\n",
    "left_df\n",
    "\n",
    "response = pd.concat([right_df, left_df], axis = 1)\n",
    "assert_joining_2_2(response)"
   ],
   "metadata": {
    "collapsed": false,
    "pycharm": {
     "name": "#%%\n"
    }
   }
  },
  {
   "cell_type": "markdown",
   "source": [
    "#### Statistics"
   ],
   "metadata": {
    "collapsed": false,
    "pycharm": {
     "name": "#%% md\n"
    }
   }
  },
  {
   "cell_type": "code",
   "execution_count": 50,
   "outputs": [
    {
     "name": "stdout",
     "output_type": "stream",
     "text": [
      "\n",
      "******************************\n",
      "***   Correct, good job!   ***\n",
      "******************************\n",
      "                \n",
      "Your response:\n",
      "       sepal_length  sepal_width  petal_length  petal_width\n",
      "count    150.000000   150.000000    150.000000   150.000000\n",
      "mean       5.843333     3.057333      3.758000     1.199333\n",
      "std        0.828066     0.435866      1.765298     0.762238\n",
      "min        4.300000     2.000000      1.000000     0.100000\n",
      "25%        5.100000     2.800000      1.600000     0.300000\n",
      "50%        5.800000     3.000000      4.350000     1.300000\n",
      "75%        6.400000     3.300000      5.100000     1.800000\n",
      "max        7.900000     4.400000      6.900000     2.500000\n",
      "\n",
      "Correct answer:\n",
      "       sepal_length  sepal_width  petal_length  petal_width\n",
      "count    150.000000   150.000000    150.000000   150.000000\n",
      "mean       5.843333     3.057333      3.758000     1.199333\n",
      "std        0.828066     0.435866      1.765298     0.762238\n",
      "min        4.300000     2.000000      1.000000     0.100000\n",
      "25%        5.100000     2.800000      1.600000     0.300000\n",
      "50%        5.800000     3.000000      4.350000     1.300000\n",
      "75%        6.400000     3.300000      5.100000     1.800000\n",
      "max        7.900000     4.400000      6.900000     2.500000\n",
      "\n"
     ]
    }
   ],
   "source": [
    "# Return a description matrix of the given DataFrame, which displays the count, mean, standard deviation, minimum, maximum, 25th percentile, 50th percentile, and the 75th percentile.\n",
    "# Given parameter(s): df (DataFrame)\n",
    "# Submission: response (DataFrame)\n",
    "\n",
    "df\n",
    "\n",
    "response = df.describe()\n",
    "assert_statistics_1_1(response)"
   ],
   "metadata": {
    "collapsed": false,
    "pycharm": {
     "name": "#%%\n"
    }
   }
  },
  {
   "cell_type": "code",
   "execution_count": 51,
   "outputs": [
    {
     "name": "stdout",
     "output_type": "stream",
     "text": [
      "\n",
      "******************************\n",
      "***   Correct, good job!   ***\n",
      "******************************\n",
      "                \n",
      "Your response:\n",
      "              sepal_length  sepal_width  petal_length  petal_width\n",
      "sepal_length      1.000000    -0.117570      0.871754     0.817941\n",
      "sepal_width      -0.117570     1.000000     -0.428440    -0.366126\n",
      "petal_length      0.871754    -0.428440      1.000000     0.962865\n",
      "petal_width       0.817941    -0.366126      0.962865     1.000000\n",
      "\n",
      "Correct answer:\n",
      "              sepal_length  sepal_width  petal_length  petal_width\n",
      "sepal_length      1.000000    -0.117570      0.871754     0.817941\n",
      "sepal_width      -0.117570     1.000000     -0.428440    -0.366126\n",
      "petal_length      0.871754    -0.428440      1.000000     0.962865\n",
      "petal_width       0.817941    -0.366126      0.962865     1.000000\n",
      "\n"
     ]
    }
   ],
   "source": [
    "# Return a correlation matrix, which shows the correlations of pairs across each column.\n",
    "# Given parameter(s): df (DataFrame)\n",
    "# Submission: response (DataFrame)\n",
    "\n",
    "df\n",
    "\n",
    "response = df.corr()\n",
    "assert_statistics_2_1(response)"
   ],
   "metadata": {
    "collapsed": false,
    "pycharm": {
     "name": "#%%\n"
    }
   }
  },
  {
   "cell_type": "markdown",
   "source": [
    "\n",
    "### Congratulations! You finished the basic introduction to the Pandas library!"
   ],
   "metadata": {
    "collapsed": false,
    "pycharm": {
     "name": "#%% md\n"
    }
   }
  }
 ],
 "metadata": {
  "kernelspec": {
   "display_name": "Python 3",
   "language": "python",
   "name": "python3"
  },
  "language_info": {
   "codemirror_mode": {
    "name": "ipython",
    "version": 2
   },
   "file_extension": ".py",
   "mimetype": "text/x-python",
   "name": "python",
   "nbconvert_exporter": "python",
   "pygments_lexer": "ipython2",
   "version": "2.7.6"
  }
 },
 "nbformat": 4,
 "nbformat_minor": 0
}